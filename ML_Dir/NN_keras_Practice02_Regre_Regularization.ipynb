{
 "cells": [
  {
   "cell_type": "code",
   "execution_count": 27,
   "id": "e076ebaa-476d-48e0-9ae8-8f525e10297f",
   "metadata": {},
   "outputs": [],
   "source": [
    "from pandas import read_csv\n",
    "import pandas as pd\n",
    "import numpy as np\n",
    "from sklearn.model_selection import train_test_split\n",
    "from sklearn.preprocessing import LabelEncoder\n",
    "from tensorflow.keras import Sequential\n",
    "from tensorflow.keras.layers import Dense, Dropout"
   ]
  },
  {
   "cell_type": "code",
   "execution_count": 97,
   "id": "56be024c-8499-4416-99d6-ab80e7d49a46",
   "metadata": {},
   "outputs": [],
   "source": [
    "df = pd.read_csv(\"Regression_Assign/car_price_prediction.zip\")"
   ]
  },
  {
   "cell_type": "code",
   "execution_count": 98,
   "id": "9fb26128-a2e7-42e2-ac99-e5e37b8593c9",
   "metadata": {},
   "outputs": [
    {
     "data": {
      "text/html": [
       "<div>\n",
       "<style scoped>\n",
       "    .dataframe tbody tr th:only-of-type {\n",
       "        vertical-align: middle;\n",
       "    }\n",
       "\n",
       "    .dataframe tbody tr th {\n",
       "        vertical-align: top;\n",
       "    }\n",
       "\n",
       "    .dataframe thead th {\n",
       "        text-align: right;\n",
       "    }\n",
       "</style>\n",
       "<table border=\"1\" class=\"dataframe\">\n",
       "  <thead>\n",
       "    <tr style=\"text-align: right;\">\n",
       "      <th></th>\n",
       "      <th>ID</th>\n",
       "      <th>Price</th>\n",
       "      <th>Prod. year</th>\n",
       "      <th>Cylinders</th>\n",
       "      <th>Airbags</th>\n",
       "    </tr>\n",
       "  </thead>\n",
       "  <tbody>\n",
       "    <tr>\n",
       "      <th>count</th>\n",
       "      <td>1.923700e+04</td>\n",
       "      <td>1.923700e+04</td>\n",
       "      <td>19237.000000</td>\n",
       "      <td>19237.000000</td>\n",
       "      <td>19237.000000</td>\n",
       "    </tr>\n",
       "    <tr>\n",
       "      <th>mean</th>\n",
       "      <td>4.557654e+07</td>\n",
       "      <td>1.855593e+04</td>\n",
       "      <td>2010.912824</td>\n",
       "      <td>4.582991</td>\n",
       "      <td>6.582627</td>\n",
       "    </tr>\n",
       "    <tr>\n",
       "      <th>std</th>\n",
       "      <td>9.365914e+05</td>\n",
       "      <td>1.905813e+05</td>\n",
       "      <td>5.668673</td>\n",
       "      <td>1.199933</td>\n",
       "      <td>4.320168</td>\n",
       "    </tr>\n",
       "    <tr>\n",
       "      <th>min</th>\n",
       "      <td>2.074688e+07</td>\n",
       "      <td>1.000000e+00</td>\n",
       "      <td>1939.000000</td>\n",
       "      <td>1.000000</td>\n",
       "      <td>0.000000</td>\n",
       "    </tr>\n",
       "    <tr>\n",
       "      <th>25%</th>\n",
       "      <td>4.569837e+07</td>\n",
       "      <td>5.331000e+03</td>\n",
       "      <td>2009.000000</td>\n",
       "      <td>4.000000</td>\n",
       "      <td>4.000000</td>\n",
       "    </tr>\n",
       "    <tr>\n",
       "      <th>50%</th>\n",
       "      <td>4.577231e+07</td>\n",
       "      <td>1.317200e+04</td>\n",
       "      <td>2012.000000</td>\n",
       "      <td>4.000000</td>\n",
       "      <td>6.000000</td>\n",
       "    </tr>\n",
       "    <tr>\n",
       "      <th>75%</th>\n",
       "      <td>4.580204e+07</td>\n",
       "      <td>2.207500e+04</td>\n",
       "      <td>2015.000000</td>\n",
       "      <td>4.000000</td>\n",
       "      <td>12.000000</td>\n",
       "    </tr>\n",
       "    <tr>\n",
       "      <th>max</th>\n",
       "      <td>4.581665e+07</td>\n",
       "      <td>2.630750e+07</td>\n",
       "      <td>2020.000000</td>\n",
       "      <td>16.000000</td>\n",
       "      <td>16.000000</td>\n",
       "    </tr>\n",
       "  </tbody>\n",
       "</table>\n",
       "</div>"
      ],
      "text/plain": [
       "                 ID         Price    Prod. year     Cylinders       Airbags\n",
       "count  1.923700e+04  1.923700e+04  19237.000000  19237.000000  19237.000000\n",
       "mean   4.557654e+07  1.855593e+04   2010.912824      4.582991      6.582627\n",
       "std    9.365914e+05  1.905813e+05      5.668673      1.199933      4.320168\n",
       "min    2.074688e+07  1.000000e+00   1939.000000      1.000000      0.000000\n",
       "25%    4.569837e+07  5.331000e+03   2009.000000      4.000000      4.000000\n",
       "50%    4.577231e+07  1.317200e+04   2012.000000      4.000000      6.000000\n",
       "75%    4.580204e+07  2.207500e+04   2015.000000      4.000000     12.000000\n",
       "max    4.581665e+07  2.630750e+07   2020.000000     16.000000     16.000000"
      ]
     },
     "execution_count": 98,
     "metadata": {},
     "output_type": "execute_result"
    }
   ],
   "source": [
    "df.describe()"
   ]
  },
  {
   "cell_type": "code",
   "execution_count": 99,
   "id": "b569ba00-4d00-4af4-9755-f72f4cfd82aa",
   "metadata": {},
   "outputs": [],
   "source": [
    "df.drop([\"ID\"],axis=1,inplace=True)"
   ]
  },
  {
   "cell_type": "code",
   "execution_count": 100,
   "id": "0923fe41-542d-47d8-89d2-4debedd79b3c",
   "metadata": {},
   "outputs": [
    {
     "name": "stdout",
     "output_type": "stream",
     "text": [
      "<class 'pandas.core.frame.DataFrame'>\n",
      "RangeIndex: 19237 entries, 0 to 19236\n",
      "Data columns (total 17 columns):\n",
      " #   Column            Non-Null Count  Dtype  \n",
      "---  ------            --------------  -----  \n",
      " 0   Price             19237 non-null  int64  \n",
      " 1   Levy              19237 non-null  object \n",
      " 2   Manufacturer      19237 non-null  object \n",
      " 3   Model             19237 non-null  object \n",
      " 4   Prod. year        19237 non-null  int64  \n",
      " 5   Category          19237 non-null  object \n",
      " 6   Leather interior  19237 non-null  object \n",
      " 7   Fuel type         19237 non-null  object \n",
      " 8   Engine volume     19237 non-null  object \n",
      " 9   Mileage           19237 non-null  object \n",
      " 10  Cylinders         19237 non-null  float64\n",
      " 11  Gear box type     19237 non-null  object \n",
      " 12  Drive wheels      19237 non-null  object \n",
      " 13  Doors             19237 non-null  object \n",
      " 14  Wheel             19237 non-null  object \n",
      " 15  Color             19237 non-null  object \n",
      " 16  Airbags           19237 non-null  int64  \n",
      "dtypes: float64(1), int64(3), object(13)\n",
      "memory usage: 2.5+ MB\n"
     ]
    }
   ],
   "source": [
    "df.info()"
   ]
  },
  {
   "cell_type": "code",
   "execution_count": 101,
   "id": "fe8bd280-a513-41e6-a4bc-c2f9c63456d9",
   "metadata": {},
   "outputs": [],
   "source": [
    "df.drop(['Model','Levy','Engine volume','Mileage'],axis=1,inplace=True)"
   ]
  },
  {
   "cell_type": "code",
   "execution_count": 102,
   "id": "19d32d91-5538-4da2-820c-a38fda36bd84",
   "metadata": {},
   "outputs": [
    {
     "data": {
      "text/plain": [
       "Price               2315\n",
       "Manufacturer          65\n",
       "Prod. year            54\n",
       "Category              11\n",
       "Leather interior       2\n",
       "Fuel type              7\n",
       "Cylinders             13\n",
       "Gear box type          4\n",
       "Drive wheels           3\n",
       "Doors                  3\n",
       "Wheel                  2\n",
       "Color                 16\n",
       "Airbags               17\n",
       "dtype: int64"
      ]
     },
     "execution_count": 102,
     "metadata": {},
     "output_type": "execute_result"
    }
   ],
   "source": [
    "df.nunique()"
   ]
  },
  {
   "cell_type": "code",
   "execution_count": 103,
   "id": "e64c57ec-4c2e-44d4-9d6a-a033728f23fc",
   "metadata": {},
   "outputs": [],
   "source": [
    "df = pd.get_dummies(df,columns=df.select_dtypes(\"object\").columns)"
   ]
  },
  {
   "cell_type": "code",
   "execution_count": 104,
   "id": "ee4a97e9-c530-473e-9124-080f4799a631",
   "metadata": {},
   "outputs": [
    {
     "data": {
      "text/plain": [
       "(19237, 117)"
      ]
     },
     "execution_count": 104,
     "metadata": {},
     "output_type": "execute_result"
    }
   ],
   "source": [
    "df.shape"
   ]
  },
  {
   "cell_type": "code",
   "execution_count": 105,
   "id": "099d27d1-f945-48cd-acd2-16eb474f6156",
   "metadata": {},
   "outputs": [],
   "source": [
    "#from sklearn import preprocessing\n",
    "\n",
    "#x = df.values #returns a numpy array\n",
    "#min_max_scaler = preprocessing.MinMaxScaler()\n",
    "#x_scaled = min_max_scaler.fit_transform(x)\n",
    "#df = pd.DataFrame(x_scaled,columns=df.columns)"
   ]
  },
  {
   "cell_type": "code",
   "execution_count": 106,
   "id": "3ff30b68-6623-4600-b6cd-7415bf403ea8",
   "metadata": {},
   "outputs": [],
   "source": [
    "df = df.to_numpy().astype(np.float64)\n",
    "#df = df.to_numpy().astype(\"float\")"
   ]
  },
  {
   "cell_type": "code",
   "execution_count": 107,
   "id": "06eb8009-679e-4bed-835e-26661726f255",
   "metadata": {},
   "outputs": [],
   "source": [
    "X, y = df[:, 1:], df[:, 0]"
   ]
  },
  {
   "cell_type": "code",
   "execution_count": 108,
   "id": "5a29a165-43c0-49cf-851b-e3611cf90a55",
   "metadata": {},
   "outputs": [],
   "source": [
    "y = np.log(y)+1"
   ]
  },
  {
   "cell_type": "code",
   "execution_count": 109,
   "id": "7050fcc4-3669-4ebd-b591-0259e44121ec",
   "metadata": {},
   "outputs": [],
   "source": [
    "#X, y = df.values[:, 1:], df.values[:, 0]"
   ]
  },
  {
   "cell_type": "code",
   "execution_count": 110,
   "id": "d4c5b975-499f-4f55-b3d6-2518a582cf5d",
   "metadata": {},
   "outputs": [],
   "source": [
    "#from sklearn import preprocessing\n",
    "\n",
    "#x = df[:,1:].values #returns a numpy array\n",
    "#min_max_scaler = preprocessing.MinMaxScaler()\n",
    "#x_scaled = min_max_scaler.fit_transform(x)\n",
    "#X = pd.DataFrame(x_scaled,columns=df[:,1:].columns)"
   ]
  },
  {
   "cell_type": "code",
   "execution_count": 111,
   "id": "f9c40def-ca2f-4daf-b6f5-59ef347fd4eb",
   "metadata": {},
   "outputs": [
    {
     "data": {
      "text/plain": [
       "((19237, 116), (19237,))"
      ]
     },
     "execution_count": 111,
     "metadata": {},
     "output_type": "execute_result"
    }
   ],
   "source": [
    "X.shape,y.shape"
   ]
  },
  {
   "cell_type": "code",
   "execution_count": 112,
   "id": "fb62170b-ff12-43d0-a66f-e649b756df66",
   "metadata": {},
   "outputs": [
    {
     "name": "stdout",
     "output_type": "stream",
     "text": [
      "(13465, 116) (5772, 116) (13465,) (5772,)\n"
     ]
    }
   ],
   "source": [
    "# split into train and test datasets\n",
    "from sklearn.model_selection import train_test_split\n",
    "X_train, X_test, y_train, y_test = train_test_split(X, y, test_size=0.3,random_state=7)\n",
    "print(X_train.shape, X_test.shape, y_train.shape, y_test.shape)"
   ]
  },
  {
   "cell_type": "code",
   "execution_count": 113,
   "id": "ad4c9dc1-d614-41ee-8c1a-059cbfa7d3af",
   "metadata": {},
   "outputs": [],
   "source": [
    "n_features = X_train.shape[1]"
   ]
  },
  {
   "cell_type": "code",
   "execution_count": 114,
   "id": "aa11b799-f59e-4bdf-871b-98ab748b9586",
   "metadata": {},
   "outputs": [
    {
     "data": {
      "text/plain": [
       "585"
      ]
     },
     "execution_count": 114,
     "metadata": {},
     "output_type": "execute_result"
    }
   ],
   "source": [
    "n_features * 5 + 5 #(bias values)"
   ]
  },
  {
   "cell_type": "code",
   "execution_count": 115,
   "id": "83163090-6053-4505-b997-84372aa59716",
   "metadata": {},
   "outputs": [
    {
     "name": "stderr",
     "output_type": "stream",
     "text": [
      "C:\\Users\\dbda\\AppData\\Local\\miniconda3\\Lib\\site-packages\\keras\\src\\layers\\core\\dense.py:87: UserWarning: Do not pass an `input_shape`/`input_dim` argument to a layer. When using Sequential models, prefer using an `Input(shape)` object as the first layer in the model instead.\n",
      "  super().__init__(activity_regularizer=activity_regularizer, **kwargs)\n"
     ]
    }
   ],
   "source": [
    "# define model\n",
    "model1 = Sequential()\n",
    "model1.add(Dense(15, activation='relu', input_shape=(n_features,)))\n",
    "model1.add(Dense(5, activation='relu'))\n",
    "#model1.add(Dense(25, activation='relu'))\n",
    "#model1.add(Dense(10, activation='relu'))\n",
    "# model1.add(Dropout(0.2))\n",
    "model1.add(Dense(1, activation='linear'))\n",
    "#model1.add(Dense(2, activation='softmax'))"
   ]
  },
  {
   "cell_type": "code",
   "execution_count": 116,
   "id": "7046b01e-8f36-4715-a618-4e43a09bf2c4",
   "metadata": {},
   "outputs": [
    {
     "data": {
      "text/html": [
       "<pre style=\"white-space:pre;overflow-x:auto;line-height:normal;font-family:Menlo,'DejaVu Sans Mono',consolas,'Courier New',monospace\"><span style=\"font-weight: bold\">Model: \"sequential_3\"</span>\n",
       "</pre>\n"
      ],
      "text/plain": [
       "\u001b[1mModel: \"sequential_3\"\u001b[0m\n"
      ]
     },
     "metadata": {},
     "output_type": "display_data"
    },
    {
     "data": {
      "text/html": [
       "<pre style=\"white-space:pre;overflow-x:auto;line-height:normal;font-family:Menlo,'DejaVu Sans Mono',consolas,'Courier New',monospace\">┏━━━━━━━━━━━━━━━━━━━━━━━━━━━━━━━━━━━━━━┳━━━━━━━━━━━━━━━━━━━━━━━━━━━━━┳━━━━━━━━━━━━━━━━━┓\n",
       "┃<span style=\"font-weight: bold\"> Layer (type)                         </span>┃<span style=\"font-weight: bold\"> Output Shape                </span>┃<span style=\"font-weight: bold\">         Param # </span>┃\n",
       "┡━━━━━━━━━━━━━━━━━━━━━━━━━━━━━━━━━━━━━━╇━━━━━━━━━━━━━━━━━━━━━━━━━━━━━╇━━━━━━━━━━━━━━━━━┩\n",
       "│ dense_13 (<span style=\"color: #0087ff; text-decoration-color: #0087ff\">Dense</span>)                     │ (<span style=\"color: #00d7ff; text-decoration-color: #00d7ff\">None</span>, <span style=\"color: #00af00; text-decoration-color: #00af00\">15</span>)                  │           <span style=\"color: #00af00; text-decoration-color: #00af00\">1,755</span> │\n",
       "├──────────────────────────────────────┼─────────────────────────────┼─────────────────┤\n",
       "│ dense_14 (<span style=\"color: #0087ff; text-decoration-color: #0087ff\">Dense</span>)                     │ (<span style=\"color: #00d7ff; text-decoration-color: #00d7ff\">None</span>, <span style=\"color: #00af00; text-decoration-color: #00af00\">5</span>)                   │              <span style=\"color: #00af00; text-decoration-color: #00af00\">80</span> │\n",
       "├──────────────────────────────────────┼─────────────────────────────┼─────────────────┤\n",
       "│ dense_15 (<span style=\"color: #0087ff; text-decoration-color: #0087ff\">Dense</span>)                     │ (<span style=\"color: #00d7ff; text-decoration-color: #00d7ff\">None</span>, <span style=\"color: #00af00; text-decoration-color: #00af00\">1</span>)                   │               <span style=\"color: #00af00; text-decoration-color: #00af00\">6</span> │\n",
       "└──────────────────────────────────────┴─────────────────────────────┴─────────────────┘\n",
       "</pre>\n"
      ],
      "text/plain": [
       "┏━━━━━━━━━━━━━━━━━━━━━━━━━━━━━━━━━━━━━━┳━━━━━━━━━━━━━━━━━━━━━━━━━━━━━┳━━━━━━━━━━━━━━━━━┓\n",
       "┃\u001b[1m \u001b[0m\u001b[1mLayer (type)                        \u001b[0m\u001b[1m \u001b[0m┃\u001b[1m \u001b[0m\u001b[1mOutput Shape               \u001b[0m\u001b[1m \u001b[0m┃\u001b[1m \u001b[0m\u001b[1m        Param #\u001b[0m\u001b[1m \u001b[0m┃\n",
       "┡━━━━━━━━━━━━━━━━━━━━━━━━━━━━━━━━━━━━━━╇━━━━━━━━━━━━━━━━━━━━━━━━━━━━━╇━━━━━━━━━━━━━━━━━┩\n",
       "│ dense_13 (\u001b[38;5;33mDense\u001b[0m)                     │ (\u001b[38;5;45mNone\u001b[0m, \u001b[38;5;34m15\u001b[0m)                  │           \u001b[38;5;34m1,755\u001b[0m │\n",
       "├──────────────────────────────────────┼─────────────────────────────┼─────────────────┤\n",
       "│ dense_14 (\u001b[38;5;33mDense\u001b[0m)                     │ (\u001b[38;5;45mNone\u001b[0m, \u001b[38;5;34m5\u001b[0m)                   │              \u001b[38;5;34m80\u001b[0m │\n",
       "├──────────────────────────────────────┼─────────────────────────────┼─────────────────┤\n",
       "│ dense_15 (\u001b[38;5;33mDense\u001b[0m)                     │ (\u001b[38;5;45mNone\u001b[0m, \u001b[38;5;34m1\u001b[0m)                   │               \u001b[38;5;34m6\u001b[0m │\n",
       "└──────────────────────────────────────┴─────────────────────────────┴─────────────────┘\n"
      ]
     },
     "metadata": {},
     "output_type": "display_data"
    },
    {
     "data": {
      "text/html": [
       "<pre style=\"white-space:pre;overflow-x:auto;line-height:normal;font-family:Menlo,'DejaVu Sans Mono',consolas,'Courier New',monospace\"><span style=\"font-weight: bold\"> Total params: </span><span style=\"color: #00af00; text-decoration-color: #00af00\">1,841</span> (7.19 KB)\n",
       "</pre>\n"
      ],
      "text/plain": [
       "\u001b[1m Total params: \u001b[0m\u001b[38;5;34m1,841\u001b[0m (7.19 KB)\n"
      ]
     },
     "metadata": {},
     "output_type": "display_data"
    },
    {
     "data": {
      "text/html": [
       "<pre style=\"white-space:pre;overflow-x:auto;line-height:normal;font-family:Menlo,'DejaVu Sans Mono',consolas,'Courier New',monospace\"><span style=\"font-weight: bold\"> Trainable params: </span><span style=\"color: #00af00; text-decoration-color: #00af00\">1,841</span> (7.19 KB)\n",
       "</pre>\n"
      ],
      "text/plain": [
       "\u001b[1m Trainable params: \u001b[0m\u001b[38;5;34m1,841\u001b[0m (7.19 KB)\n"
      ]
     },
     "metadata": {},
     "output_type": "display_data"
    },
    {
     "data": {
      "text/html": [
       "<pre style=\"white-space:pre;overflow-x:auto;line-height:normal;font-family:Menlo,'DejaVu Sans Mono',consolas,'Courier New',monospace\"><span style=\"font-weight: bold\"> Non-trainable params: </span><span style=\"color: #00af00; text-decoration-color: #00af00\">0</span> (0.00 B)\n",
       "</pre>\n"
      ],
      "text/plain": [
       "\u001b[1m Non-trainable params: \u001b[0m\u001b[38;5;34m0\u001b[0m (0.00 B)\n"
      ]
     },
     "metadata": {},
     "output_type": "display_data"
    }
   ],
   "source": [
    "model1.summary()"
   ]
  },
  {
   "cell_type": "code",
   "execution_count": 117,
   "id": "f0dfe5ae-4de2-434f-8c1b-23542cb2596f",
   "metadata": {},
   "outputs": [],
   "source": [
    "# compile the model\n",
    "model1.compile(optimizer='adam', loss='mse', metrics=['mae'])"
   ]
  },
  {
   "cell_type": "code",
   "execution_count": 118,
   "id": "7fa691b6-7aa2-42b4-bd7e-5d86352c7766",
   "metadata": {
    "scrolled": true
   },
   "outputs": [
    {
     "name": "stdout",
     "output_type": "stream",
     "text": [
      "Epoch 1/100\n",
      "295/295 - 2s - 5ms/step - loss: 4.5715 - mae: 1.4362 - val_loss: 2.6516 - val_mae: 1.3443\n",
      "Epoch 2/100\n",
      "295/295 - 1s - 2ms/step - loss: 2.4045 - mae: 1.1467 - val_loss: 2.9985 - val_mae: 1.5156\n",
      "Epoch 3/100\n",
      "295/295 - 0s - 1ms/step - loss: 2.3095 - mae: 1.1193 - val_loss: 2.4607 - val_mae: 1.2999\n",
      "Epoch 4/100\n",
      "295/295 - 1s - 3ms/step - loss: 2.3164 - mae: 1.1255 - val_loss: 2.1856 - val_mae: 1.1300\n",
      "Epoch 5/100\n",
      "295/295 - 0s - 1ms/step - loss: 2.3176 - mae: 1.1273 - val_loss: 2.1117 - val_mae: 1.0515\n",
      "Epoch 6/100\n",
      "295/295 - 0s - 2ms/step - loss: 2.2999 - mae: 1.1214 - val_loss: 2.0986 - val_mae: 1.0271\n",
      "Epoch 7/100\n",
      "295/295 - 0s - 1ms/step - loss: 2.2847 - mae: 1.1169 - val_loss: 2.0913 - val_mae: 1.0215\n",
      "Epoch 8/100\n",
      "295/295 - 1s - 2ms/step - loss: 2.2737 - mae: 1.1136 - val_loss: 2.0837 - val_mae: 1.0229\n",
      "Epoch 9/100\n",
      "295/295 - 1s - 2ms/step - loss: 2.2657 - mae: 1.1113 - val_loss: 2.0772 - val_mae: 1.0288\n",
      "Epoch 10/100\n",
      "295/295 - 0s - 2ms/step - loss: 2.2594 - mae: 1.1094 - val_loss: 2.0742 - val_mae: 1.0395\n",
      "Epoch 11/100\n",
      "295/295 - 0s - 2ms/step - loss: 2.2539 - mae: 1.1079 - val_loss: 2.0792 - val_mae: 1.0571\n",
      "Epoch 12/100\n",
      "295/295 - 0s - 2ms/step - loss: 2.2488 - mae: 1.1066 - val_loss: 2.0972 - val_mae: 1.0827\n",
      "Epoch 13/100\n",
      "295/295 - 0s - 1ms/step - loss: 2.2438 - mae: 1.1053 - val_loss: 2.1309 - val_mae: 1.1146\n",
      "Epoch 14/100\n",
      "295/295 - 0s - 1ms/step - loss: 2.2387 - mae: 1.1039 - val_loss: 2.1782 - val_mae: 1.1494\n",
      "Epoch 15/100\n",
      "295/295 - 0s - 1ms/step - loss: 2.2329 - mae: 1.1021 - val_loss: 2.2336 - val_mae: 1.1843\n",
      "Epoch 16/100\n",
      "295/295 - 0s - 1ms/step - loss: 2.2263 - mae: 1.0997 - val_loss: 2.2915 - val_mae: 1.2170\n",
      "Epoch 17/100\n",
      "295/295 - 0s - 1ms/step - loss: 2.2189 - mae: 1.0970 - val_loss: 2.3488 - val_mae: 1.2470\n",
      "Epoch 18/100\n",
      "295/295 - 0s - 1ms/step - loss: 2.2109 - mae: 1.0941 - val_loss: 2.4034 - val_mae: 1.2737\n",
      "Epoch 19/100\n",
      "295/295 - 0s - 2ms/step - loss: 2.2029 - mae: 1.0909 - val_loss: 2.4544 - val_mae: 1.2975\n",
      "Epoch 20/100\n",
      "295/295 - 0s - 1ms/step - loss: 2.1951 - mae: 1.0880 - val_loss: 2.4982 - val_mae: 1.3170\n",
      "Epoch 21/100\n",
      "295/295 - 0s - 1ms/step - loss: 2.1879 - mae: 1.0852 - val_loss: 2.5377 - val_mae: 1.3340\n",
      "Epoch 22/100\n",
      "295/295 - 0s - 1ms/step - loss: 2.1809 - mae: 1.0827 - val_loss: 2.5723 - val_mae: 1.3484\n",
      "Epoch 23/100\n",
      "295/295 - 0s - 1ms/step - loss: 2.1743 - mae: 1.0801 - val_loss: 2.6019 - val_mae: 1.3605\n",
      "Epoch 24/100\n",
      "295/295 - 0s - 1ms/step - loss: 2.1680 - mae: 1.0778 - val_loss: 2.6263 - val_mae: 1.3704\n",
      "Epoch 25/100\n",
      "295/295 - 0s - 1ms/step - loss: 2.1621 - mae: 1.0756 - val_loss: 2.6465 - val_mae: 1.3783\n",
      "Epoch 26/100\n",
      "295/295 - 0s - 1ms/step - loss: 2.1566 - mae: 1.0737 - val_loss: 2.6625 - val_mae: 1.3846\n",
      "Epoch 27/100\n",
      "295/295 - 0s - 1ms/step - loss: 2.1515 - mae: 1.0718 - val_loss: 2.6752 - val_mae: 1.3896\n",
      "Epoch 28/100\n",
      "295/295 - 0s - 1ms/step - loss: 2.1467 - mae: 1.0701 - val_loss: 2.6851 - val_mae: 1.3934\n",
      "Epoch 29/100\n",
      "295/295 - 0s - 1ms/step - loss: 2.1421 - mae: 1.0684 - val_loss: 2.6963 - val_mae: 1.3979\n",
      "Epoch 30/100\n",
      "295/295 - 0s - 1ms/step - loss: 2.1361 - mae: 1.0663 - val_loss: 2.6987 - val_mae: 1.3990\n",
      "Epoch 31/100\n",
      "295/295 - 0s - 1ms/step - loss: 2.1344 - mae: 1.0655 - val_loss: 2.7039 - val_mae: 1.4008\n",
      "Epoch 32/100\n",
      "295/295 - 0s - 1ms/step - loss: 2.1312 - mae: 1.0644 - val_loss: 2.7068 - val_mae: 1.4018\n",
      "Epoch 33/100\n",
      "295/295 - 0s - 1ms/step - loss: 2.1282 - mae: 1.0633 - val_loss: 2.7095 - val_mae: 1.4027\n",
      "Epoch 34/100\n",
      "295/295 - 0s - 1ms/step - loss: 2.1254 - mae: 1.0623 - val_loss: 2.7117 - val_mae: 1.4035\n",
      "Epoch 35/100\n",
      "295/295 - 0s - 1ms/step - loss: 2.1227 - mae: 1.0612 - val_loss: 2.7132 - val_mae: 1.4040\n",
      "Epoch 36/100\n",
      "295/295 - 0s - 1ms/step - loss: 2.1201 - mae: 1.0602 - val_loss: 2.7140 - val_mae: 1.4042\n",
      "Epoch 37/100\n",
      "295/295 - 0s - 1ms/step - loss: 2.1176 - mae: 1.0593 - val_loss: 2.7138 - val_mae: 1.4041\n",
      "Epoch 38/100\n",
      "295/295 - 0s - 1ms/step - loss: 2.1152 - mae: 1.0584 - val_loss: 2.7125 - val_mae: 1.4035\n",
      "Epoch 39/100\n",
      "295/295 - 0s - 1ms/step - loss: 2.1129 - mae: 1.0575 - val_loss: 2.7096 - val_mae: 1.4025\n",
      "Epoch 40/100\n",
      "295/295 - 0s - 1ms/step - loss: 2.1107 - mae: 1.0567 - val_loss: 2.7052 - val_mae: 1.4008\n",
      "Epoch 41/100\n",
      "295/295 - 0s - 1ms/step - loss: 2.1087 - mae: 1.0560 - val_loss: 2.6989 - val_mae: 1.3985\n",
      "Epoch 42/100\n",
      "295/295 - 0s - 1ms/step - loss: 2.1070 - mae: 1.0552 - val_loss: 2.6907 - val_mae: 1.3954\n",
      "Epoch 43/100\n",
      "295/295 - 0s - 1ms/step - loss: 2.1055 - mae: 1.0546 - val_loss: 2.6803 - val_mae: 1.3915\n",
      "Epoch 44/100\n",
      "295/295 - 0s - 1ms/step - loss: 2.1044 - mae: 1.0540 - val_loss: 2.6671 - val_mae: 1.3865\n",
      "Epoch 45/100\n",
      "295/295 - 1s - 2ms/step - loss: 2.1036 - mae: 1.0536 - val_loss: 2.6500 - val_mae: 1.3799\n",
      "Epoch 46/100\n",
      "295/295 - 0s - 1ms/step - loss: 2.1033 - mae: 1.0533 - val_loss: 2.6271 - val_mae: 1.3710\n",
      "Epoch 47/100\n",
      "295/295 - 0s - 1ms/step - loss: 2.1035 - mae: 1.0534 - val_loss: 2.5957 - val_mae: 1.3585\n",
      "Epoch 48/100\n",
      "295/295 - 0s - 1ms/step - loss: 2.1042 - mae: 1.0535 - val_loss: 2.5529 - val_mae: 1.3410\n",
      "Epoch 49/100\n",
      "295/295 - 0s - 1ms/step - loss: 2.1052 - mae: 1.0536 - val_loss: 2.4975 - val_mae: 1.3175\n",
      "Epoch 50/100\n",
      "295/295 - 0s - 1ms/step - loss: 2.1064 - mae: 1.0538 - val_loss: 2.4320 - val_mae: 1.2882\n",
      "Epoch 51/100\n",
      "295/295 - 0s - 1ms/step - loss: 2.1076 - mae: 1.0541 - val_loss: 2.3629 - val_mae: 1.2553\n",
      "Epoch 52/100\n",
      "295/295 - 0s - 1ms/step - loss: 2.1089 - mae: 1.0543 - val_loss: 2.2991 - val_mae: 1.2222\n",
      "Epoch 53/100\n",
      "295/295 - 0s - 2ms/step - loss: 2.1101 - mae: 1.0546 - val_loss: 2.2475 - val_mae: 1.1935\n",
      "Epoch 54/100\n",
      "295/295 - 0s - 1ms/step - loss: 2.1111 - mae: 1.0548 - val_loss: 2.2110 - val_mae: 1.1716\n",
      "Epoch 55/100\n",
      "295/295 - 0s - 1ms/step - loss: 2.1115 - mae: 1.0550 - val_loss: 2.1885 - val_mae: 1.1570\n",
      "Epoch 56/100\n",
      "295/295 - 1s - 3ms/step - loss: 2.1109 - mae: 1.0550 - val_loss: 2.1761 - val_mae: 1.1486\n",
      "Epoch 57/100\n",
      "295/295 - 0s - 1ms/step - loss: 2.1092 - mae: 1.0546 - val_loss: 2.1698 - val_mae: 1.1442\n",
      "Epoch 58/100\n",
      "295/295 - 0s - 1ms/step - loss: 2.1068 - mae: 1.0539 - val_loss: 2.1666 - val_mae: 1.1419\n",
      "Epoch 59/100\n",
      "295/295 - 0s - 1ms/step - loss: 2.1041 - mae: 1.0531 - val_loss: 2.1647 - val_mae: 1.1405\n",
      "Epoch 60/100\n",
      "295/295 - 0s - 1ms/step - loss: 2.1015 - mae: 1.0523 - val_loss: 2.1630 - val_mae: 1.1393\n",
      "Epoch 61/100\n",
      "295/295 - 0s - 1ms/step - loss: 2.0990 - mae: 1.0515 - val_loss: 2.1614 - val_mae: 1.1381\n",
      "Epoch 62/100\n",
      "295/295 - 0s - 1ms/step - loss: 2.0968 - mae: 1.0509 - val_loss: 2.1596 - val_mae: 1.1368\n",
      "Epoch 63/100\n",
      "295/295 - 0s - 1ms/step - loss: 2.0947 - mae: 1.0503 - val_loss: 2.1578 - val_mae: 1.1355\n",
      "Epoch 64/100\n",
      "295/295 - 0s - 1ms/step - loss: 2.0929 - mae: 1.0497 - val_loss: 2.1562 - val_mae: 1.1344\n",
      "Epoch 65/100\n",
      "295/295 - 0s - 1ms/step - loss: 2.0911 - mae: 1.0490 - val_loss: 2.1549 - val_mae: 1.1334\n",
      "Epoch 66/100\n",
      "295/295 - 0s - 1ms/step - loss: 2.0894 - mae: 1.0485 - val_loss: 2.1540 - val_mae: 1.1328\n",
      "Epoch 67/100\n",
      "295/295 - 0s - 1ms/step - loss: 2.0878 - mae: 1.0480 - val_loss: 2.1535 - val_mae: 1.1324\n",
      "Epoch 68/100\n",
      "295/295 - 0s - 1ms/step - loss: 2.0863 - mae: 1.0475 - val_loss: 2.1532 - val_mae: 1.1323\n",
      "Epoch 69/100\n",
      "295/295 - 0s - 1ms/step - loss: 2.0848 - mae: 1.0471 - val_loss: 2.1531 - val_mae: 1.1323\n",
      "Epoch 70/100\n",
      "295/295 - 0s - 1ms/step - loss: 2.0834 - mae: 1.0467 - val_loss: 2.1531 - val_mae: 1.1323\n",
      "Epoch 71/100\n",
      "295/295 - 0s - 1ms/step - loss: 2.0821 - mae: 1.0463 - val_loss: 2.1531 - val_mae: 1.1323\n",
      "Epoch 72/100\n",
      "295/295 - 0s - 1ms/step - loss: 2.0809 - mae: 1.0459 - val_loss: 2.1529 - val_mae: 1.1322\n",
      "Epoch 73/100\n",
      "295/295 - 0s - 1ms/step - loss: 2.0780 - mae: 1.0444 - val_loss: 2.1503 - val_mae: 1.1305\n",
      "Epoch 74/100\n",
      "295/295 - 0s - 1ms/step - loss: 2.0808 - mae: 1.0448 - val_loss: 2.1574 - val_mae: 1.1349\n",
      "Epoch 75/100\n",
      "295/295 - 0s - 1ms/step - loss: 2.0782 - mae: 1.0444 - val_loss: 2.1551 - val_mae: 1.1336\n",
      "Epoch 76/100\n",
      "295/295 - 1s - 2ms/step - loss: 2.0773 - mae: 1.0444 - val_loss: 2.1537 - val_mae: 1.1327\n",
      "Epoch 77/100\n",
      "295/295 - 0s - 1ms/step - loss: 2.0761 - mae: 1.0440 - val_loss: 2.1526 - val_mae: 1.1320\n",
      "Epoch 78/100\n",
      "295/295 - 0s - 1ms/step - loss: 2.0749 - mae: 1.0436 - val_loss: 2.1514 - val_mae: 1.1313\n",
      "Epoch 79/100\n",
      "295/295 - 0s - 1ms/step - loss: 2.0737 - mae: 1.0432 - val_loss: 2.1503 - val_mae: 1.1305\n",
      "Epoch 80/100\n",
      "295/295 - 0s - 2ms/step - loss: 2.0725 - mae: 1.0428 - val_loss: 2.1492 - val_mae: 1.1298\n",
      "Epoch 81/100\n",
      "295/295 - 1s - 2ms/step - loss: 2.0714 - mae: 1.0423 - val_loss: 2.1481 - val_mae: 1.1290\n",
      "Epoch 82/100\n",
      "295/295 - 1s - 2ms/step - loss: 2.0704 - mae: 1.0419 - val_loss: 2.1506 - val_mae: 1.1310\n",
      "Epoch 83/100\n",
      "295/295 - 0s - 2ms/step - loss: 2.0700 - mae: 1.0418 - val_loss: 2.1495 - val_mae: 1.1302\n",
      "Epoch 84/100\n",
      "295/295 - 0s - 1ms/step - loss: 2.0689 - mae: 1.0414 - val_loss: 2.1469 - val_mae: 1.1283\n",
      "Epoch 85/100\n",
      "295/295 - 0s - 2ms/step - loss: 2.0677 - mae: 1.0409 - val_loss: 2.1450 - val_mae: 1.1271\n",
      "Epoch 86/100\n",
      "295/295 - 0s - 2ms/step - loss: 2.0666 - mae: 1.0403 - val_loss: 2.1427 - val_mae: 1.1252\n",
      "Epoch 87/100\n",
      "295/295 - 0s - 2ms/step - loss: 2.0654 - mae: 1.0399 - val_loss: 2.1419 - val_mae: 1.1247\n",
      "Epoch 88/100\n",
      "295/295 - 0s - 2ms/step - loss: 2.0647 - mae: 1.0396 - val_loss: 2.1414 - val_mae: 1.1244\n",
      "Epoch 89/100\n",
      "295/295 - 0s - 1ms/step - loss: 2.0640 - mae: 1.0393 - val_loss: 2.1398 - val_mae: 1.1232\n",
      "Epoch 90/100\n",
      "295/295 - 0s - 2ms/step - loss: 2.0627 - mae: 1.0388 - val_loss: 2.1395 - val_mae: 1.1230\n",
      "Epoch 91/100\n",
      "295/295 - 0s - 1ms/step - loss: 2.0617 - mae: 1.0384 - val_loss: 2.1388 - val_mae: 1.1225\n",
      "Epoch 92/100\n",
      "295/295 - 0s - 2ms/step - loss: 2.0612 - mae: 1.0382 - val_loss: 2.1375 - val_mae: 1.1216\n",
      "Epoch 93/100\n",
      "295/295 - 0s - 2ms/step - loss: 2.0604 - mae: 1.0379 - val_loss: 2.1368 - val_mae: 1.1211\n",
      "Epoch 94/100\n",
      "295/295 - 0s - 2ms/step - loss: 2.0713 - mae: 1.0404 - val_loss: 2.1566 - val_mae: 1.1322\n",
      "Epoch 95/100\n",
      "295/295 - 0s - 2ms/step - loss: 2.0700 - mae: 1.0395 - val_loss: 2.1466 - val_mae: 1.1257\n",
      "Epoch 96/100\n",
      "295/295 - 0s - 2ms/step - loss: 2.0636 - mae: 1.0376 - val_loss: 2.1423 - val_mae: 1.1232\n",
      "Epoch 97/100\n",
      "295/295 - 0s - 2ms/step - loss: 2.0604 - mae: 1.0368 - val_loss: 2.1395 - val_mae: 1.1215\n",
      "Epoch 98/100\n",
      "295/295 - 0s - 2ms/step - loss: 2.0583 - mae: 1.0363 - val_loss: 2.1376 - val_mae: 1.1204\n",
      "Epoch 99/100\n",
      "295/295 - 0s - 2ms/step - loss: 2.0567 - mae: 1.0359 - val_loss: 2.1362 - val_mae: 1.1196\n",
      "Epoch 100/100\n",
      "295/295 - 1s - 2ms/step - loss: 2.0553 - mae: 1.0355 - val_loss: 2.1351 - val_mae: 1.1190\n"
     ]
    }
   ],
   "source": [
    "# fit the model (traning)\n",
    "history = model1.fit( X_train, y_train, epochs=100, batch_size=32,\n",
    "                     validation_split=0.3, verbose=2,shuffle=False)"
   ]
  },
  {
   "cell_type": "code",
   "execution_count": 119,
   "id": "cffdd6aa-7af7-45c9-bc70-1a5d7bd017cb",
   "metadata": {},
   "outputs": [
    {
     "name": "stdout",
     "output_type": "stream",
     "text": [
      "Test MAE: 1.120\n"
     ]
    }
   ],
   "source": [
    "# evaluate the model\n",
    "loss, mae = model1.evaluate(X_test, y_test, verbose=0)\n",
    "print('Test MAE: %.3f' % mae)"
   ]
  },
  {
   "cell_type": "code",
   "execution_count": 120,
   "id": "d56b5c02-967d-4ed7-9b43-c72372c9f919",
   "metadata": {},
   "outputs": [
    {
     "data": {
      "text/plain": [
       "[<matplotlib.lines.Line2D at 0x29a1904a0f0>]"
      ]
     },
     "execution_count": 120,
     "metadata": {},
     "output_type": "execute_result"
    },
    {
     "data": {
      "image/png": "[encoded data removed]",
      "text/plain": [
       "<Figure size 640x480 with 1 Axes>"
      ]
     },
     "metadata": {},
     "output_type": "display_data"
    }
   ],
   "source": [
    "import matplotlib.pyplot as plt\n",
    "plt.plot(history.history['loss']) # loss is training loss\n",
    "plt.plot(history.history['val_loss']) # val_loss loss on the validation data / test loss"
   ]
  },
  {
   "cell_type": "code",
   "execution_count": null,
   "id": "3694a04d-37df-42b5-a03f-9162276cc321",
   "metadata": {},
   "outputs": [],
   "source": []
  },
  {
   "cell_type": "code",
   "execution_count": 150,
   "id": "180787b9-456c-44fe-a650-ea5cc3a8656c",
   "metadata": {},
   "outputs": [],
   "source": [
    "# define model\n",
    "model1 = Sequential()\n",
    "model1.add(Dense(15, activation='relu', input_shape=(n_features,)))\n",
    "model1.add(Dense(5, activation='relu'))\n",
    "#model1.add(Dense(25, activation='relu'))\n",
    "#model1.add(Dense(10, activation='relu'))\n",
    "model1.add(Dropout(0.1))\n",
    "model1.add(Dense(1, activation='linear'))\n",
    "#model1.add(Dense(2, activation='softmax'))"
   ]
  },
  {
   "cell_type": "code",
   "execution_count": 151,
   "id": "49a555e4-592c-47d8-9d23-c691ac806f30",
   "metadata": {},
   "outputs": [],
   "source": [
    "# compile the model\n",
    "model1.compile(optimizer='adam', loss='mse', metrics=['mae'])"
   ]
  },
  {
   "cell_type": "code",
   "execution_count": 152,
   "id": "ff98befb-3aef-44b8-84bd-b0f1c77a1c69",
   "metadata": {
    "scrolled": true
   },
   "outputs": [
    {
     "name": "stdout",
     "output_type": "stream",
     "text": [
      "Epoch 1/100\n",
      "295/295 - 2s - 6ms/step - loss: 10065.7119 - mae: 62.8822 - val_loss: 64.3763 - val_mae: 7.8590\n",
      "Epoch 2/100\n",
      "295/295 - 0s - 1ms/step - loss: 932.5082 - mae: 17.5788 - val_loss: 27.1656 - val_mae: 4.9773\n",
      "Epoch 3/100\n",
      "295/295 - 0s - 2ms/step - loss: 349.4393 - mae: 10.4999 - val_loss: 7.7981 - val_mae: 2.5744\n",
      "Epoch 4/100\n",
      "295/295 - 0s - 1ms/step - loss: 199.1680 - mae: 7.7097 - val_loss: 5.5375 - val_mae: 2.1719\n",
      "Epoch 5/100\n",
      "295/295 - 0s - 1ms/step - loss: 123.8513 - mae: 6.2392 - val_loss: 6.3740 - val_mae: 2.3344\n",
      "Epoch 6/100\n",
      "295/295 - 1s - 2ms/step - loss: 87.8522 - mae: 5.5620 - val_loss: 5.5259 - val_mae: 2.1716\n",
      "Epoch 7/100\n",
      "295/295 - 0s - 2ms/step - loss: 62.8409 - mae: 4.8107 - val_loss: 3.9357 - val_mae: 1.8026\n",
      "Epoch 8/100\n",
      "295/295 - 0s - 1ms/step - loss: 47.7826 - mae: 4.2507 - val_loss: 3.5486 - val_mae: 1.6899\n",
      "Epoch 9/100\n",
      "295/295 - 0s - 1ms/step - loss: 36.1331 - mae: 3.7069 - val_loss: 3.0077 - val_mae: 1.4980\n",
      "Epoch 10/100\n",
      "295/295 - 0s - 1ms/step - loss: 28.6282 - mae: 3.3732 - val_loss: 3.5463 - val_mae: 1.6902\n",
      "Epoch 11/100\n",
      "295/295 - 0s - 1ms/step - loss: 23.7479 - mae: 3.1081 - val_loss: 3.4344 - val_mae: 1.6558\n",
      "Epoch 12/100\n",
      "295/295 - 1s - 3ms/step - loss: 19.4542 - mae: 2.8438 - val_loss: 3.0312 - val_mae: 1.5133\n",
      "Epoch 13/100\n",
      "295/295 - 0s - 1ms/step - loss: 16.6562 - mae: 2.6631 - val_loss: 3.1654 - val_mae: 1.5661\n",
      "Epoch 14/100\n",
      "295/295 - 0s - 1ms/step - loss: 13.9762 - mae: 2.4539 - val_loss: 3.0057 - val_mae: 1.5075\n",
      "Epoch 15/100\n",
      "295/295 - 0s - 1ms/step - loss: 11.7961 - mae: 2.2849 - val_loss: 2.7856 - val_mae: 1.4145\n",
      "Epoch 16/100\n",
      "295/295 - 0s - 1ms/step - loss: 10.1760 - mae: 2.1373 - val_loss: 2.9073 - val_mae: 1.4726\n",
      "Epoch 17/100\n",
      "295/295 - 0s - 1ms/step - loss: 9.1439 - mae: 2.0238 - val_loss: 2.6902 - val_mae: 1.3764\n",
      "Epoch 18/100\n",
      "295/295 - 0s - 2ms/step - loss: 8.0696 - mae: 1.8802 - val_loss: 2.6500 - val_mae: 1.3609\n",
      "Epoch 19/100\n",
      "295/295 - 0s - 2ms/step - loss: 7.6044 - mae: 1.8240 - val_loss: 2.6578 - val_mae: 1.3701\n",
      "Epoch 20/100\n",
      "295/295 - 1s - 2ms/step - loss: 7.1782 - mae: 1.7836 - val_loss: 2.7280 - val_mae: 1.4066\n",
      "Epoch 21/100\n",
      "295/295 - 0s - 2ms/step - loss: 7.0844 - mae: 1.7669 - val_loss: 2.4454 - val_mae: 1.2534\n",
      "Epoch 22/100\n",
      "295/295 - 1s - 2ms/step - loss: 6.6462 - mae: 1.7086 - val_loss: 2.8193 - val_mae: 1.4520\n",
      "Epoch 23/100\n",
      "295/295 - 0s - 1ms/step - loss: 6.7039 - mae: 1.7230 - val_loss: 3.0446 - val_mae: 1.5389\n",
      "Epoch 24/100\n",
      "295/295 - 1s - 2ms/step - loss: 6.7104 - mae: 1.7326 - val_loss: 2.9472 - val_mae: 1.5041\n",
      "Epoch 25/100\n",
      "295/295 - 0s - 2ms/step - loss: 6.4960 - mae: 1.7149 - val_loss: 3.0231 - val_mae: 1.5325\n",
      "Epoch 26/100\n",
      "295/295 - 0s - 1ms/step - loss: 6.3365 - mae: 1.6838 - val_loss: 3.1074 - val_mae: 1.5622\n",
      "Epoch 27/100\n",
      "295/295 - 0s - 1ms/step - loss: 6.5351 - mae: 1.7328 - val_loss: 2.5288 - val_mae: 1.3334\n",
      "Epoch 28/100\n",
      "295/295 - 0s - 1ms/step - loss: 6.1758 - mae: 1.6747 - val_loss: 2.5794 - val_mae: 1.3585\n",
      "Epoch 29/100\n",
      "295/295 - 0s - 1ms/step - loss: 5.9769 - mae: 1.6411 - val_loss: 2.5239 - val_mae: 1.3326\n",
      "Epoch 30/100\n",
      "295/295 - 0s - 1ms/step - loss: 5.8310 - mae: 1.6315 - val_loss: 2.7847 - val_mae: 1.4434\n",
      "Epoch 31/100\n",
      "295/295 - 0s - 1ms/step - loss: 5.6635 - mae: 1.6247 - val_loss: 2.2070 - val_mae: 1.1514\n",
      "Epoch 32/100\n",
      "295/295 - 0s - 1ms/step - loss: 5.8009 - mae: 1.6712 - val_loss: 2.7330 - val_mae: 1.4231\n",
      "Epoch 33/100\n",
      "295/295 - 0s - 1ms/step - loss: 5.4888 - mae: 1.6075 - val_loss: 2.4583 - val_mae: 1.3020\n",
      "Epoch 34/100\n",
      "295/295 - 0s - 1ms/step - loss: 5.4801 - mae: 1.6116 - val_loss: 2.2795 - val_mae: 1.2073\n",
      "Epoch 35/100\n",
      "295/295 - 0s - 1ms/step - loss: 5.1340 - mae: 1.5796 - val_loss: 2.7652 - val_mae: 1.4300\n",
      "Epoch 36/100\n",
      "295/295 - 0s - 1ms/step - loss: 5.2480 - mae: 1.6041 - val_loss: 2.1782 - val_mae: 1.1408\n",
      "Epoch 37/100\n",
      "295/295 - 1s - 2ms/step - loss: 5.0778 - mae: 1.5780 - val_loss: 2.1019 - val_mae: 1.0156\n",
      "Epoch 38/100\n",
      "295/295 - 0s - 1ms/step - loss: 4.8609 - mae: 1.5476 - val_loss: 2.5576 - val_mae: 1.3455\n",
      "Epoch 39/100\n",
      "295/295 - 1s - 2ms/step - loss: 4.8064 - mae: 1.5558 - val_loss: 2.8712 - val_mae: 1.4674\n",
      "Epoch 40/100\n",
      "295/295 - 0s - 2ms/step - loss: 4.9142 - mae: 1.5780 - val_loss: 2.3589 - val_mae: 1.2522\n",
      "Epoch 41/100\n",
      "295/295 - 0s - 2ms/step - loss: 4.5018 - mae: 1.4993 - val_loss: 2.5326 - val_mae: 1.3345\n",
      "Epoch 42/100\n",
      "295/295 - 0s - 1ms/step - loss: 4.4583 - mae: 1.4986 - val_loss: 2.2820 - val_mae: 1.2123\n",
      "Epoch 43/100\n",
      "295/295 - 0s - 1ms/step - loss: 4.2530 - mae: 1.4637 - val_loss: 2.2002 - val_mae: 1.1604\n",
      "Epoch 44/100\n",
      "295/295 - 0s - 1ms/step - loss: 4.3707 - mae: 1.4974 - val_loss: 2.2698 - val_mae: 1.2042\n",
      "Epoch 45/100\n",
      "295/295 - 0s - 1ms/step - loss: 4.1486 - mae: 1.4516 - val_loss: 2.2205 - val_mae: 1.1743\n",
      "Epoch 46/100\n",
      "295/295 - 1s - 3ms/step - loss: 4.0677 - mae: 1.4542 - val_loss: 2.4069 - val_mae: 1.2782\n",
      "Epoch 47/100\n",
      "295/295 - 0s - 1ms/step - loss: 3.8649 - mae: 1.4175 - val_loss: 2.2844 - val_mae: 1.2134\n",
      "Epoch 48/100\n",
      "295/295 - 0s - 1ms/step - loss: 3.7306 - mae: 1.3829 - val_loss: 2.4365 - val_mae: 1.2935\n",
      "Epoch 49/100\n",
      "295/295 - 0s - 2ms/step - loss: 3.7621 - mae: 1.4054 - val_loss: 2.6787 - val_mae: 1.3958\n",
      "Epoch 50/100\n",
      "295/295 - 0s - 2ms/step - loss: 3.7597 - mae: 1.4062 - val_loss: 2.4232 - val_mae: 1.2854\n",
      "Epoch 51/100\n",
      "295/295 - 0s - 2ms/step - loss: 3.6792 - mae: 1.4025 - val_loss: 2.6134 - val_mae: 1.3702\n",
      "Epoch 52/100\n",
      "295/295 - 0s - 2ms/step - loss: 3.5320 - mae: 1.3678 - val_loss: 2.6026 - val_mae: 1.3651\n",
      "Epoch 53/100\n",
      "295/295 - 1s - 2ms/step - loss: 3.5820 - mae: 1.3867 - val_loss: 2.2377 - val_mae: 1.1850\n",
      "Epoch 54/100\n",
      "295/295 - 0s - 2ms/step - loss: 3.3495 - mae: 1.3321 - val_loss: 2.2828 - val_mae: 1.2121\n",
      "Epoch 55/100\n",
      "295/295 - 0s - 1ms/step - loss: 3.3173 - mae: 1.3417 - val_loss: 2.2503 - val_mae: 1.1937\n",
      "Epoch 56/100\n",
      "295/295 - 0s - 1ms/step - loss: 3.2643 - mae: 1.3233 - val_loss: 2.4002 - val_mae: 1.2750\n",
      "Epoch 57/100\n",
      "295/295 - 0s - 1ms/step - loss: 3.1854 - mae: 1.3082 - val_loss: 2.4068 - val_mae: 1.2795\n",
      "Epoch 58/100\n",
      "295/295 - 1s - 2ms/step - loss: 3.1579 - mae: 1.3039 - val_loss: 2.2433 - val_mae: 1.1899\n",
      "Epoch 59/100\n",
      "295/295 - 0s - 1ms/step - loss: 3.1030 - mae: 1.3057 - val_loss: 2.1075 - val_mae: 1.0786\n",
      "Epoch 60/100\n",
      "295/295 - 0s - 1ms/step - loss: 3.0311 - mae: 1.2831 - val_loss: 2.2320 - val_mae: 1.1815\n",
      "Epoch 61/100\n",
      "295/295 - 0s - 1ms/step - loss: 2.9070 - mae: 1.2511 - val_loss: 2.2547 - val_mae: 1.1958\n",
      "Epoch 62/100\n",
      "295/295 - 0s - 1ms/step - loss: 2.9097 - mae: 1.2633 - val_loss: 2.2679 - val_mae: 1.2043\n",
      "Epoch 63/100\n",
      "295/295 - 0s - 1ms/step - loss: 2.8015 - mae: 1.2414 - val_loss: 2.1077 - val_mae: 1.0797\n",
      "Epoch 64/100\n",
      "295/295 - 0s - 1ms/step - loss: 2.8083 - mae: 1.2420 - val_loss: 2.4889 - val_mae: 1.3173\n",
      "Epoch 65/100\n",
      "295/295 - 0s - 1ms/step - loss: 2.7484 - mae: 1.2267 - val_loss: 2.2914 - val_mae: 1.2182\n",
      "Epoch 66/100\n",
      "295/295 - 0s - 1ms/step - loss: 2.6411 - mae: 1.2054 - val_loss: 2.3269 - val_mae: 1.2378\n",
      "Epoch 67/100\n",
      "295/295 - 0s - 1ms/step - loss: 2.6594 - mae: 1.2084 - val_loss: 2.2824 - val_mae: 1.2127\n",
      "Epoch 68/100\n",
      "295/295 - 0s - 2ms/step - loss: 2.6453 - mae: 1.2083 - val_loss: 2.2485 - val_mae: 1.1932\n",
      "Epoch 69/100\n",
      "295/295 - 0s - 2ms/step - loss: 2.6207 - mae: 1.2042 - val_loss: 2.1510 - val_mae: 1.1239\n",
      "Epoch 70/100\n",
      "295/295 - 0s - 2ms/step - loss: 2.5439 - mae: 1.1804 - val_loss: 2.4658 - val_mae: 1.3065\n",
      "Epoch 71/100\n",
      "295/295 - 0s - 1ms/step - loss: 2.5553 - mae: 1.1938 - val_loss: 2.2161 - val_mae: 1.1713\n",
      "Epoch 72/100\n",
      "295/295 - 0s - 2ms/step - loss: 2.4851 - mae: 1.1734 - val_loss: 2.1273 - val_mae: 1.1037\n",
      "Epoch 73/100\n",
      "295/295 - 1s - 2ms/step - loss: 2.4436 - mae: 1.1634 - val_loss: 2.1758 - val_mae: 1.1431\n",
      "Epoch 74/100\n",
      "295/295 - 0s - 2ms/step - loss: 2.4519 - mae: 1.1714 - val_loss: 2.2527 - val_mae: 1.1951\n",
      "Epoch 75/100\n",
      "295/295 - 0s - 2ms/step - loss: 2.4209 - mae: 1.1595 - val_loss: 2.1948 - val_mae: 1.1576\n",
      "Epoch 76/100\n",
      "295/295 - 0s - 2ms/step - loss: 2.3782 - mae: 1.1466 - val_loss: 2.1765 - val_mae: 1.1444\n",
      "Epoch 77/100\n",
      "295/295 - 0s - 1ms/step - loss: 2.3766 - mae: 1.1519 - val_loss: 2.2343 - val_mae: 1.1853\n",
      "Epoch 78/100\n",
      "295/295 - 0s - 1ms/step - loss: 2.3333 - mae: 1.1379 - val_loss: 2.2794 - val_mae: 1.2125\n",
      "Epoch 79/100\n",
      "295/295 - 1s - 2ms/step - loss: 2.3323 - mae: 1.1380 - val_loss: 2.3276 - val_mae: 1.2405\n",
      "Epoch 80/100\n",
      "295/295 - 1s - 2ms/step - loss: 2.3000 - mae: 1.1297 - val_loss: 2.3166 - val_mae: 1.2342\n",
      "Epoch 81/100\n",
      "295/295 - 0s - 1ms/step - loss: 2.2872 - mae: 1.1277 - val_loss: 2.1843 - val_mae: 1.1528\n",
      "Epoch 82/100\n",
      "295/295 - 0s - 2ms/step - loss: 2.2262 - mae: 1.1115 - val_loss: 2.1934 - val_mae: 1.1595\n",
      "Epoch 83/100\n",
      "295/295 - 0s - 1ms/step - loss: 2.2269 - mae: 1.1135 - val_loss: 2.2127 - val_mae: 1.1735\n",
      "Epoch 84/100\n",
      "295/295 - 0s - 1ms/step - loss: 2.2372 - mae: 1.1130 - val_loss: 2.1639 - val_mae: 1.1380\n",
      "Epoch 85/100\n",
      "295/295 - 0s - 1ms/step - loss: 2.2148 - mae: 1.1063 - val_loss: 2.2426 - val_mae: 1.1889\n",
      "Epoch 86/100\n",
      "295/295 - 0s - 2ms/step - loss: 2.2120 - mae: 1.1054 - val_loss: 2.2719 - val_mae: 1.2059\n",
      "Epoch 87/100\n",
      "295/295 - 0s - 2ms/step - loss: 2.1923 - mae: 1.0985 - val_loss: 2.2424 - val_mae: 1.1844\n",
      "Epoch 88/100\n",
      "295/295 - 0s - 2ms/step - loss: 2.1785 - mae: 1.0955 - val_loss: 2.1404 - val_mae: 1.1171\n",
      "Epoch 89/100\n",
      "295/295 - 0s - 2ms/step - loss: 2.1772 - mae: 1.0937 - val_loss: 2.2411 - val_mae: 1.1841\n",
      "Epoch 90/100\n",
      "295/295 - 1s - 3ms/step - loss: 2.1842 - mae: 1.0969 - val_loss: 2.2204 - val_mae: 1.1708\n",
      "Epoch 91/100\n",
      "295/295 - 0s - 1ms/step - loss: 2.1489 - mae: 1.0834 - val_loss: 2.2811 - val_mae: 1.2044\n",
      "Epoch 92/100\n",
      "295/295 - 0s - 1ms/step - loss: 2.1784 - mae: 1.0946 - val_loss: 2.2524 - val_mae: 1.1888\n",
      "Epoch 93/100\n",
      "295/295 - 0s - 1ms/step - loss: 2.1388 - mae: 1.0781 - val_loss: 2.1893 - val_mae: 1.1497\n",
      "Epoch 94/100\n",
      "295/295 - 0s - 1ms/step - loss: 2.1352 - mae: 1.0772 - val_loss: 2.2378 - val_mae: 1.1783\n",
      "Epoch 95/100\n",
      "295/295 - 0s - 2ms/step - loss: 2.1349 - mae: 1.0783 - val_loss: 2.1891 - val_mae: 1.1484\n",
      "Epoch 96/100\n",
      "295/295 - 0s - 2ms/step - loss: 2.1292 - mae: 1.0754 - val_loss: 2.1820 - val_mae: 1.1458\n",
      "Epoch 97/100\n",
      "295/295 - 0s - 2ms/step - loss: 2.1221 - mae: 1.0732 - val_loss: 2.1669 - val_mae: 1.1355\n",
      "Epoch 98/100\n",
      "295/295 - 0s - 2ms/step - loss: 2.1046 - mae: 1.0679 - val_loss: 2.2051 - val_mae: 1.1620\n",
      "Epoch 99/100\n",
      "295/295 - 0s - 1ms/step - loss: 2.1195 - mae: 1.0750 - val_loss: 2.1583 - val_mae: 1.1297\n",
      "Epoch 100/100\n",
      "295/295 - 0s - 2ms/step - loss: 2.1095 - mae: 1.0699 - val_loss: 2.2206 - val_mae: 1.1679\n"
     ]
    }
   ],
   "source": [
    "# fit the model (traning)\n",
    "history = model1.fit( X_train, y_train, epochs=100, batch_size=32,\n",
    "                     validation_split=0.3, verbose=2,shuffle=False)"
   ]
  },
  {
   "cell_type": "code",
   "execution_count": 153,
   "id": "9afd69ca-2d3b-48c1-b149-fec8fe0494ed",
   "metadata": {},
   "outputs": [
    {
     "name": "stdout",
     "output_type": "stream",
     "text": [
      "Test MAE: 1.171\n"
     ]
    }
   ],
   "source": [
    "# evaluate the model\n",
    "loss, mae = model1.evaluate(X_test, y_test, verbose=0)\n",
    "print('Test MAE: %.3f' % mae)"
   ]
  },
  {
   "cell_type": "code",
   "execution_count": 157,
   "id": "d5911de5-ff36-4abf-aac4-d1b4b1e4f596",
   "metadata": {},
   "outputs": [
    {
     "data": {
      "text/plain": [
       "[<matplotlib.lines.Line2D at 0x29a687bb500>]"
      ]
     },
     "execution_count": 157,
     "metadata": {},
     "output_type": "execute_result"
    },
    {
     "data": {
      "image/png": "[encoded data removed]",
      "text/plain": [
       "<Figure size 640x480 with 1 Axes>"
      ]
     },
     "metadata": {},
     "output_type": "display_data"
    }
   ],
   "source": [
    "import matplotlib.pyplot as plt\n",
    "plt.plot(history.history['loss'][10:]) # loss is training loss\n",
    "plt.plot(history.history['val_loss'][10:]) # val_loss loss on the validation data / test loss"
   ]
  },
  {
   "cell_type": "code",
   "execution_count": null,
   "id": "2306dfd9-dcbc-47d9-a61b-f4ba312bbddf",
   "metadata": {},
   "outputs": [],
   "source": []
  },
  {
   "cell_type": "code",
   "execution_count": 131,
   "id": "36e2d702-15dd-4132-80d6-9bd9966aa8a3",
   "metadata": {},
   "outputs": [],
   "source": [
    "from tensorflow.keras.layers import BatchNormalization"
   ]
  },
  {
   "cell_type": "code",
   "execution_count": 138,
   "id": "77431dc6-219e-40a4-b49e-9924072cee28",
   "metadata": {},
   "outputs": [
    {
     "name": "stderr",
     "output_type": "stream",
     "text": [
      "C:\\Users\\dbda\\AppData\\Local\\miniconda3\\Lib\\site-packages\\keras\\src\\layers\\core\\dense.py:87: UserWarning: Do not pass an `input_shape`/`input_dim` argument to a layer. When using Sequential models, prefer using an `Input(shape)` object as the first layer in the model instead.\n",
      "  super().__init__(activity_regularizer=activity_regularizer, **kwargs)\n"
     ]
    }
   ],
   "source": [
    "# define model\n",
    "model1 = Sequential()\n",
    "model1.add(Dense(15, activation='relu', input_shape=(n_features,)))\n",
    "model1.add(Dense(5, activation='relu'))\n",
    "#model1.add(Dense(25, activation='relu'))\n",
    "#model1.add(Dense(10, activation='relu'))\n",
    "model1.add(BatchNormalization())\n",
    "model1.add(Dense(1, activation='linear'))\n",
    "#model1.add(Dense(2, activation='softmax'))"
   ]
  },
  {
   "cell_type": "code",
   "execution_count": 139,
   "id": "0a47626f-ae31-4c89-b30e-054565151572",
   "metadata": {},
   "outputs": [],
   "source": [
    "# compile the model\n",
    "model1.compile(optimizer='adam', loss='mse', metrics=['mae'])"
   ]
  },
  {
   "cell_type": "code",
   "execution_count": 140,
   "id": "a843572f-09c3-4862-880c-8b7dee1f3e44",
   "metadata": {
    "scrolled": true
   },
   "outputs": [
    {
     "name": "stdout",
     "output_type": "stream",
     "text": [
      "Epoch 1/100\n",
      "295/295 - 2s - 7ms/step - loss: 89.6525 - mae: 9.3093 - val_loss: 470.8903 - val_mae: 21.6404\n",
      "Epoch 2/100\n",
      "295/295 - 1s - 2ms/step - loss: 49.9223 - mae: 6.8286 - val_loss: 13.3490 - val_mae: 3.2814\n",
      "Epoch 3/100\n",
      "295/295 - 1s - 2ms/step - loss: 16.3863 - mae: 3.7237 - val_loss: 3.9000 - val_mae: 1.7872\n",
      "Epoch 4/100\n",
      "295/295 - 0s - 2ms/step - loss: 4.2493 - mae: 1.8363 - val_loss: 2.7919 - val_mae: 1.3872\n",
      "Epoch 5/100\n",
      "295/295 - 1s - 2ms/step - loss: 2.5845 - mae: 1.2751 - val_loss: 2.5861 - val_mae: 1.2126\n",
      "Epoch 6/100\n",
      "295/295 - 1s - 2ms/step - loss: 2.5037 - mae: 1.1859 - val_loss: 2.5832 - val_mae: 1.1901\n",
      "Epoch 7/100\n",
      "295/295 - 0s - 2ms/step - loss: 2.5020 - mae: 1.1764 - val_loss: 2.5833 - val_mae: 1.1888\n",
      "Epoch 8/100\n",
      "295/295 - 0s - 2ms/step - loss: 2.5020 - mae: 1.1757 - val_loss: 2.5832 - val_mae: 1.1894\n",
      "Epoch 9/100\n",
      "295/295 - 0s - 2ms/step - loss: 2.5021 - mae: 1.1756 - val_loss: 2.5832 - val_mae: 1.1903\n",
      "Epoch 10/100\n",
      "295/295 - 0s - 2ms/step - loss: 2.5022 - mae: 1.1757 - val_loss: 2.5831 - val_mae: 1.1913\n",
      "Epoch 11/100\n",
      "295/295 - 0s - 2ms/step - loss: 2.5023 - mae: 1.1757 - val_loss: 2.5831 - val_mae: 1.1924\n",
      "Epoch 12/100\n",
      "295/295 - 1s - 2ms/step - loss: 2.5024 - mae: 1.1758 - val_loss: 2.5830 - val_mae: 1.1936\n",
      "Epoch 13/100\n",
      "295/295 - 0s - 2ms/step - loss: 2.5025 - mae: 1.1758 - val_loss: 2.5830 - val_mae: 1.1947\n",
      "Epoch 14/100\n",
      "295/295 - 0s - 2ms/step - loss: 2.5026 - mae: 1.1759 - val_loss: 2.5831 - val_mae: 1.1958\n",
      "Epoch 15/100\n",
      "295/295 - 0s - 2ms/step - loss: 2.5028 - mae: 1.1760 - val_loss: 2.5831 - val_mae: 1.1967\n",
      "Epoch 16/100\n",
      "295/295 - 0s - 2ms/step - loss: 2.5029 - mae: 1.1760 - val_loss: 2.5832 - val_mae: 1.1975\n",
      "Epoch 17/100\n",
      "295/295 - 0s - 2ms/step - loss: 2.5030 - mae: 1.1761 - val_loss: 2.5832 - val_mae: 1.1981\n",
      "Epoch 18/100\n",
      "295/295 - 0s - 2ms/step - loss: 2.5032 - mae: 1.1761 - val_loss: 2.5833 - val_mae: 1.1986\n",
      "Epoch 19/100\n",
      "295/295 - 0s - 2ms/step - loss: 2.5033 - mae: 1.1762 - val_loss: 2.5833 - val_mae: 1.1988\n",
      "Epoch 20/100\n",
      "295/295 - 0s - 2ms/step - loss: 2.5035 - mae: 1.1762 - val_loss: 2.5833 - val_mae: 1.1990\n",
      "Epoch 21/100\n",
      "295/295 - 1s - 3ms/step - loss: 2.5036 - mae: 1.1762 - val_loss: 2.5833 - val_mae: 1.1991\n",
      "Epoch 22/100\n",
      "295/295 - 0s - 2ms/step - loss: 2.5037 - mae: 1.1763 - val_loss: 2.5833 - val_mae: 1.1991\n",
      "Epoch 23/100\n",
      "295/295 - 0s - 2ms/step - loss: 2.5037 - mae: 1.1763 - val_loss: 2.5833 - val_mae: 1.1991\n",
      "Epoch 24/100\n",
      "295/295 - 0s - 2ms/step - loss: 2.5038 - mae: 1.1763 - val_loss: 2.5833 - val_mae: 1.1990\n",
      "Epoch 25/100\n",
      "295/295 - 0s - 2ms/step - loss: 2.5038 - mae: 1.1763 - val_loss: 2.5833 - val_mae: 1.1990\n",
      "Epoch 26/100\n",
      "295/295 - 1s - 3ms/step - loss: 2.5039 - mae: 1.1763 - val_loss: 2.5833 - val_mae: 1.1989\n",
      "Epoch 27/100\n",
      "295/295 - 0s - 2ms/step - loss: 2.5039 - mae: 1.1763 - val_loss: 2.5833 - val_mae: 1.1989\n",
      "Epoch 28/100\n",
      "295/295 - 1s - 3ms/step - loss: 2.5039 - mae: 1.1763 - val_loss: 2.5833 - val_mae: 1.1989\n",
      "Epoch 29/100\n",
      "295/295 - 0s - 2ms/step - loss: 2.5040 - mae: 1.1763 - val_loss: 2.5833 - val_mae: 1.1988\n",
      "Epoch 30/100\n",
      "295/295 - 0s - 2ms/step - loss: 2.5040 - mae: 1.1763 - val_loss: 2.5833 - val_mae: 1.1988\n",
      "Epoch 31/100\n",
      "295/295 - 1s - 3ms/step - loss: 2.5040 - mae: 1.1763 - val_loss: 2.5833 - val_mae: 1.1988\n",
      "Epoch 32/100\n",
      "295/295 - 0s - 2ms/step - loss: 2.5040 - mae: 1.1763 - val_loss: 2.5833 - val_mae: 1.1988\n",
      "Epoch 33/100\n",
      "295/295 - 1s - 2ms/step - loss: 2.5040 - mae: 1.1763 - val_loss: 2.5833 - val_mae: 1.1988\n",
      "Epoch 34/100\n",
      "295/295 - 0s - 2ms/step - loss: 2.5040 - mae: 1.1763 - val_loss: 2.5833 - val_mae: 1.1988\n",
      "Epoch 35/100\n",
      "295/295 - 1s - 2ms/step - loss: 2.5040 - mae: 1.1763 - val_loss: 2.5833 - val_mae: 1.1988\n",
      "Epoch 36/100\n",
      "295/295 - 0s - 2ms/step - loss: 2.5040 - mae: 1.1763 - val_loss: 2.5833 - val_mae: 1.1988\n",
      "Epoch 37/100\n",
      "295/295 - 0s - 2ms/step - loss: 2.5040 - mae: 1.1763 - val_loss: 2.5833 - val_mae: 1.1988\n",
      "Epoch 38/100\n",
      "295/295 - 0s - 2ms/step - loss: 2.5040 - mae: 1.1763 - val_loss: 2.5833 - val_mae: 1.1988\n",
      "Epoch 39/100\n",
      "295/295 - 0s - 2ms/step - loss: 2.5040 - mae: 1.1763 - val_loss: 2.5833 - val_mae: 1.1988\n",
      "Epoch 40/100\n",
      "295/295 - 0s - 2ms/step - loss: 2.5040 - mae: 1.1763 - val_loss: 2.5833 - val_mae: 1.1988\n",
      "Epoch 41/100\n",
      "295/295 - 0s - 2ms/step - loss: 2.5040 - mae: 1.1763 - val_loss: 2.5833 - val_mae: 1.1988\n",
      "Epoch 42/100\n",
      "295/295 - 0s - 2ms/step - loss: 2.5040 - mae: 1.1763 - val_loss: 2.5833 - val_mae: 1.1988\n",
      "Epoch 43/100\n",
      "295/295 - 0s - 2ms/step - loss: 2.5040 - mae: 1.1763 - val_loss: 2.5833 - val_mae: 1.1988\n",
      "Epoch 44/100\n",
      "295/295 - 0s - 2ms/step - loss: 2.5040 - mae: 1.1763 - val_loss: 2.5833 - val_mae: 1.1988\n",
      "Epoch 45/100\n",
      "295/295 - 1s - 2ms/step - loss: 2.5040 - mae: 1.1763 - val_loss: 2.5833 - val_mae: 1.1988\n",
      "Epoch 46/100\n",
      "295/295 - 0s - 2ms/step - loss: 2.5040 - mae: 1.1763 - val_loss: 2.5833 - val_mae: 1.1988\n",
      "Epoch 47/100\n",
      "295/295 - 1s - 3ms/step - loss: 2.5040 - mae: 1.1763 - val_loss: 2.5833 - val_mae: 1.1988\n",
      "Epoch 48/100\n",
      "295/295 - 0s - 2ms/step - loss: 2.5040 - mae: 1.1763 - val_loss: 2.5833 - val_mae: 1.1988\n",
      "Epoch 49/100\n",
      "295/295 - 0s - 2ms/step - loss: 2.5040 - mae: 1.1763 - val_loss: 2.5833 - val_mae: 1.1988\n",
      "Epoch 50/100\n",
      "295/295 - 0s - 1ms/step - loss: 2.5040 - mae: 1.1763 - val_loss: 2.5833 - val_mae: 1.1988\n",
      "Epoch 51/100\n",
      "295/295 - 0s - 1ms/step - loss: 2.5040 - mae: 1.1763 - val_loss: 2.5833 - val_mae: 1.1988\n",
      "Epoch 52/100\n",
      "295/295 - 0s - 1ms/step - loss: 2.5040 - mae: 1.1763 - val_loss: 2.5833 - val_mae: 1.1988\n",
      "Epoch 53/100\n",
      "295/295 - 0s - 2ms/step - loss: 2.5040 - mae: 1.1763 - val_loss: 2.5833 - val_mae: 1.1988\n",
      "Epoch 54/100\n",
      "295/295 - 0s - 2ms/step - loss: 2.5040 - mae: 1.1763 - val_loss: 2.5833 - val_mae: 1.1988\n",
      "Epoch 55/100\n",
      "295/295 - 1s - 3ms/step - loss: 2.5040 - mae: 1.1763 - val_loss: 2.5833 - val_mae: 1.1988\n",
      "Epoch 56/100\n",
      "295/295 - 0s - 2ms/step - loss: 2.5040 - mae: 1.1763 - val_loss: 2.5833 - val_mae: 1.1988\n",
      "Epoch 57/100\n",
      "295/295 - 0s - 2ms/step - loss: 2.5040 - mae: 1.1763 - val_loss: 2.5833 - val_mae: 1.1988\n",
      "Epoch 58/100\n",
      "295/295 - 0s - 2ms/step - loss: 2.5040 - mae: 1.1763 - val_loss: 2.5833 - val_mae: 1.1988\n",
      "Epoch 59/100\n",
      "295/295 - 0s - 2ms/step - loss: 2.5040 - mae: 1.1763 - val_loss: 2.5833 - val_mae: 1.1988\n",
      "Epoch 60/100\n",
      "295/295 - 1s - 3ms/step - loss: 2.5040 - mae: 1.1763 - val_loss: 2.5833 - val_mae: 1.1988\n",
      "Epoch 61/100\n",
      "295/295 - 0s - 2ms/step - loss: 2.5040 - mae: 1.1763 - val_loss: 2.5833 - val_mae: 1.1988\n",
      "Epoch 62/100\n",
      "295/295 - 0s - 1ms/step - loss: 2.5040 - mae: 1.1763 - val_loss: 2.5833 - val_mae: 1.1988\n",
      "Epoch 63/100\n",
      "295/295 - 0s - 2ms/step - loss: 2.5040 - mae: 1.1763 - val_loss: 2.5833 - val_mae: 1.1988\n",
      "Epoch 64/100\n",
      "295/295 - 0s - 2ms/step - loss: 2.5040 - mae: 1.1763 - val_loss: 2.5833 - val_mae: 1.1988\n",
      "Epoch 65/100\n",
      "295/295 - 1s - 2ms/step - loss: 2.5040 - mae: 1.1763 - val_loss: 2.5833 - val_mae: 1.1988\n",
      "Epoch 66/100\n",
      "295/295 - 0s - 2ms/step - loss: 2.5040 - mae: 1.1763 - val_loss: 2.5833 - val_mae: 1.1988\n",
      "Epoch 67/100\n",
      "295/295 - 0s - 2ms/step - loss: 2.5040 - mae: 1.1763 - val_loss: 2.5833 - val_mae: 1.1988\n",
      "Epoch 68/100\n",
      "295/295 - 0s - 2ms/step - loss: 2.5040 - mae: 1.1763 - val_loss: 2.5833 - val_mae: 1.1988\n",
      "Epoch 69/100\n",
      "295/295 - 0s - 2ms/step - loss: 2.5040 - mae: 1.1763 - val_loss: 2.5833 - val_mae: 1.1988\n",
      "Epoch 70/100\n",
      "295/295 - 0s - 2ms/step - loss: 2.5040 - mae: 1.1763 - val_loss: 2.5833 - val_mae: 1.1988\n",
      "Epoch 71/100\n",
      "295/295 - 0s - 2ms/step - loss: 2.5040 - mae: 1.1763 - val_loss: 2.5833 - val_mae: 1.1988\n",
      "Epoch 72/100\n",
      "295/295 - 0s - 2ms/step - loss: 2.5040 - mae: 1.1763 - val_loss: 2.5833 - val_mae: 1.1988\n",
      "Epoch 73/100\n",
      "295/295 - 0s - 2ms/step - loss: 2.5040 - mae: 1.1763 - val_loss: 2.5833 - val_mae: 1.1988\n",
      "Epoch 74/100\n",
      "295/295 - 0s - 2ms/step - loss: 2.5040 - mae: 1.1763 - val_loss: 2.5833 - val_mae: 1.1988\n",
      "Epoch 75/100\n",
      "295/295 - 0s - 1ms/step - loss: 2.5040 - mae: 1.1763 - val_loss: 2.5833 - val_mae: 1.1988\n",
      "Epoch 76/100\n",
      "295/295 - 0s - 1ms/step - loss: 2.5040 - mae: 1.1763 - val_loss: 2.5833 - val_mae: 1.1988\n",
      "Epoch 77/100\n",
      "295/295 - 0s - 1ms/step - loss: 2.5040 - mae: 1.1763 - val_loss: 2.5833 - val_mae: 1.1988\n",
      "Epoch 78/100\n",
      "295/295 - 0s - 2ms/step - loss: 2.5040 - mae: 1.1763 - val_loss: 2.5833 - val_mae: 1.1988\n",
      "Epoch 79/100\n",
      "295/295 - 0s - 2ms/step - loss: 2.5040 - mae: 1.1763 - val_loss: 2.5833 - val_mae: 1.1988\n",
      "Epoch 80/100\n",
      "295/295 - 0s - 1ms/step - loss: 2.5040 - mae: 1.1763 - val_loss: 2.5833 - val_mae: 1.1988\n",
      "Epoch 81/100\n",
      "295/295 - 0s - 2ms/step - loss: 2.5040 - mae: 1.1763 - val_loss: 2.5833 - val_mae: 1.1988\n",
      "Epoch 82/100\n",
      "295/295 - 0s - 2ms/step - loss: 2.5040 - mae: 1.1763 - val_loss: 2.5833 - val_mae: 1.1988\n",
      "Epoch 83/100\n",
      "295/295 - 0s - 2ms/step - loss: 2.5040 - mae: 1.1763 - val_loss: 2.5833 - val_mae: 1.1988\n",
      "Epoch 84/100\n",
      "295/295 - 0s - 2ms/step - loss: 2.5040 - mae: 1.1763 - val_loss: 2.5833 - val_mae: 1.1988\n",
      "Epoch 85/100\n",
      "295/295 - 0s - 2ms/step - loss: 2.5040 - mae: 1.1763 - val_loss: 2.5833 - val_mae: 1.1988\n",
      "Epoch 86/100\n",
      "295/295 - 0s - 2ms/step - loss: 2.5040 - mae: 1.1763 - val_loss: 2.5833 - val_mae: 1.1988\n",
      "Epoch 87/100\n",
      "295/295 - 1s - 2ms/step - loss: 2.5040 - mae: 1.1763 - val_loss: 2.5833 - val_mae: 1.1988\n",
      "Epoch 88/100\n",
      "295/295 - 1s - 2ms/step - loss: 2.5040 - mae: 1.1763 - val_loss: 2.5833 - val_mae: 1.1988\n",
      "Epoch 89/100\n",
      "295/295 - 0s - 1ms/step - loss: 2.5040 - mae: 1.1763 - val_loss: 2.5833 - val_mae: 1.1988\n",
      "Epoch 90/100\n",
      "295/295 - 0s - 2ms/step - loss: 2.5040 - mae: 1.1763 - val_loss: 2.5833 - val_mae: 1.1988\n",
      "Epoch 91/100\n",
      "295/295 - 0s - 2ms/step - loss: 2.5040 - mae: 1.1763 - val_loss: 2.5833 - val_mae: 1.1988\n",
      "Epoch 92/100\n",
      "295/295 - 1s - 2ms/step - loss: 2.5040 - mae: 1.1763 - val_loss: 2.5833 - val_mae: 1.1988\n",
      "Epoch 93/100\n",
      "295/295 - 0s - 2ms/step - loss: 2.5040 - mae: 1.1763 - val_loss: 2.5833 - val_mae: 1.1988\n",
      "Epoch 94/100\n",
      "295/295 - 0s - 2ms/step - loss: 2.5040 - mae: 1.1763 - val_loss: 2.5833 - val_mae: 1.1988\n",
      "Epoch 95/100\n",
      "295/295 - 0s - 1ms/step - loss: 2.5040 - mae: 1.1763 - val_loss: 2.5833 - val_mae: 1.1988\n",
      "Epoch 96/100\n",
      "295/295 - 0s - 2ms/step - loss: 2.5040 - mae: 1.1763 - val_loss: 2.5833 - val_mae: 1.1988\n",
      "Epoch 97/100\n",
      "295/295 - 0s - 2ms/step - loss: 2.5040 - mae: 1.1763 - val_loss: 2.5833 - val_mae: 1.1988\n",
      "Epoch 98/100\n",
      "295/295 - 0s - 2ms/step - loss: 2.5040 - mae: 1.1763 - val_loss: 2.5833 - val_mae: 1.1988\n",
      "Epoch 99/100\n",
      "295/295 - 0s - 1ms/step - loss: 2.5040 - mae: 1.1763 - val_loss: 2.5833 - val_mae: 1.1988\n",
      "Epoch 100/100\n",
      "295/295 - 0s - 2ms/step - loss: 2.5040 - mae: 1.1763 - val_loss: 2.5833 - val_mae: 1.1988\n"
     ]
    }
   ],
   "source": [
    "# fit the model (traning)\n",
    "history = model1.fit( X_train, y_train, epochs=100, batch_size=32,\n",
    "                     validation_split=0.3, verbose=2,shuffle=False)"
   ]
  },
  {
   "cell_type": "code",
   "execution_count": 141,
   "id": "91829ba4-c115-4559-9440-dccc93d65586",
   "metadata": {},
   "outputs": [
    {
     "name": "stdout",
     "output_type": "stream",
     "text": [
      "Test MAE: 1.201\n"
     ]
    }
   ],
   "source": [
    "# evaluate the model\n",
    "loss, mae = model1.evaluate(X_test, y_test, verbose=0)\n",
    "print('Test MAE: %.3f' % mae)"
   ]
  },
  {
   "cell_type": "code",
   "execution_count": 148,
   "id": "2f4eb6cf-510c-4ec8-9291-6fa9bb43f356",
   "metadata": {},
   "outputs": [
    {
     "data": {
      "text/plain": [
       "[<matplotlib.lines.Line2D at 0x29a68b18950>]"
      ]
     },
     "execution_count": 148,
     "metadata": {},
     "output_type": "execute_result"
    },
    {
     "data": {
      "image/png": "[encoded data removed]",
      "text/plain": [
       "<Figure size 640x480 with 1 Axes>"
      ]
     },
     "metadata": {},
     "output_type": "display_data"
    }
   ],
   "source": [
    "import matplotlib.pyplot as plt\n",
    "plt.plot(history.history['loss'][3:]) # loss is training loss\n",
    "plt.plot(history.history['val_loss'][3:]) # val_loss loss on the validation data / test loss"
   ]
  },
  {
   "cell_type": "code",
   "execution_count": null,
   "id": "4ae8cfad-6e20-4a6c-aa58-7420f7315df3",
   "metadata": {},
   "outputs": [],
   "source": []
  },
  {
   "cell_type": "code",
   "execution_count": 158,
   "id": "9d76b93b-cb8a-4967-8c88-854caea75b9e",
   "metadata": {},
   "outputs": [],
   "source": [
    "from tensorflow.keras import regularizers"
   ]
  },
  {
   "cell_type": "code",
   "execution_count": 159,
   "id": "18a63ad6-7bdf-4887-b4ac-4b917cac40af",
   "metadata": {},
   "outputs": [],
   "source": [
    "model1 = Sequential()\n",
    "model1.add(Dense(5,  kernel_regularizer=regularizers.L1L2(),\n",
    "                 activation='relu', input_shape=(n_features,)))\n",
    "# model1.add(Dense(100, activation='relu'))\n",
    "# model1.add(Dense(800, activation='relu'))\n",
    "# model1.add(Dense(8, activation='relu'))\n",
    "model1.add(Dense(1, activation='linear'))"
   ]
  },
  {
   "cell_type": "code",
   "execution_count": 160,
   "id": "401ad9cb-5a9b-44c1-93f8-df8173497da9",
   "metadata": {},
   "outputs": [],
   "source": [
    "model1.compile(optimizer='adam',loss=\"mse\", metrics=['mae'])"
   ]
  },
  {
   "cell_type": "code",
   "execution_count": 161,
   "id": "941b0437-7866-4da7-b2d8-555c258fc42c",
   "metadata": {
    "scrolled": true
   },
   "outputs": [
    {
     "name": "stdout",
     "output_type": "stream",
     "text": [
      "Epoch 1/100\n",
      "295/295 - 2s - 5ms/step - loss: 9607.0176 - mae: 73.8016 - val_loss: 410.2688 - val_mae: 20.1924\n",
      "Epoch 2/100\n",
      "295/295 - 1s - 2ms/step - loss: 118.1982 - mae: 9.6032 - val_loss: 12.6944 - val_mae: 3.1857\n",
      "Epoch 3/100\n",
      "295/295 - 0s - 2ms/step - loss: 4.6402 - mae: 1.5581 - val_loss: 2.6407 - val_mae: 1.1316\n",
      "Epoch 4/100\n",
      "295/295 - 0s - 2ms/step - loss: 2.4738 - mae: 1.1433 - val_loss: 2.5603 - val_mae: 1.1742\n",
      "Epoch 5/100\n",
      "295/295 - 0s - 1ms/step - loss: 2.4620 - mae: 1.1600 - val_loss: 2.5578 - val_mae: 1.1772\n",
      "Epoch 6/100\n",
      "295/295 - 1s - 2ms/step - loss: 2.4602 - mae: 1.1601 - val_loss: 2.5555 - val_mae: 1.1778\n",
      "Epoch 7/100\n",
      "295/295 - 0s - 1ms/step - loss: 2.4580 - mae: 1.1595 - val_loss: 2.5528 - val_mae: 1.1784\n",
      "Epoch 8/100\n",
      "295/295 - 1s - 2ms/step - loss: 2.4553 - mae: 1.1587 - val_loss: 2.5496 - val_mae: 1.1790\n",
      "Epoch 9/100\n",
      "295/295 - 0s - 2ms/step - loss: 2.4523 - mae: 1.1579 - val_loss: 2.5461 - val_mae: 1.1794\n",
      "Epoch 10/100\n",
      "295/295 - 0s - 1ms/step - loss: 2.4487 - mae: 1.1568 - val_loss: 2.5420 - val_mae: 1.1796\n",
      "Epoch 11/100\n",
      "295/295 - 0s - 1ms/step - loss: 2.4447 - mae: 1.1557 - val_loss: 2.5373 - val_mae: 1.1793\n",
      "Epoch 12/100\n",
      "295/295 - 1s - 2ms/step - loss: 2.4400 - mae: 1.1543 - val_loss: 2.5318 - val_mae: 1.1785\n",
      "Epoch 13/100\n",
      "295/295 - 1s - 2ms/step - loss: 2.4347 - mae: 1.1527 - val_loss: 2.5255 - val_mae: 1.1769\n",
      "Epoch 14/100\n",
      "295/295 - 0s - 1ms/step - loss: 2.4286 - mae: 1.1509 - val_loss: 2.5183 - val_mae: 1.1745\n",
      "Epoch 15/100\n",
      "295/295 - 0s - 1ms/step - loss: 2.4217 - mae: 1.1489 - val_loss: 2.5101 - val_mae: 1.1713\n",
      "Epoch 16/100\n",
      "295/295 - 0s - 1ms/step - loss: 2.4140 - mae: 1.1465 - val_loss: 2.5009 - val_mae: 1.1671\n",
      "Epoch 17/100\n",
      "295/295 - 0s - 1ms/step - loss: 2.4053 - mae: 1.1439 - val_loss: 2.4905 - val_mae: 1.1622\n",
      "Epoch 18/100\n",
      "295/295 - 1s - 2ms/step - loss: 2.3956 - mae: 1.1410 - val_loss: 2.4791 - val_mae: 1.1569\n",
      "Epoch 19/100\n",
      "295/295 - 0s - 1ms/step - loss: 2.3848 - mae: 1.1377 - val_loss: 2.4665 - val_mae: 1.1517\n",
      "Epoch 20/100\n",
      "295/295 - 0s - 2ms/step - loss: 2.3729 - mae: 1.1341 - val_loss: 2.4524 - val_mae: 1.1472\n",
      "Epoch 21/100\n",
      "295/295 - 0s - 1ms/step - loss: 2.3598 - mae: 1.1302 - val_loss: 2.4368 - val_mae: 1.1446\n",
      "Epoch 22/100\n",
      "295/295 - 1s - 2ms/step - loss: 2.3454 - mae: 1.1258 - val_loss: 2.4201 - val_mae: 1.1453\n",
      "Epoch 23/100\n",
      "295/295 - 0s - 1ms/step - loss: 2.3296 - mae: 1.1212 - val_loss: 2.4036 - val_mae: 1.1501\n",
      "Epoch 24/100\n",
      "295/295 - 0s - 1ms/step - loss: 2.3128 - mae: 1.1161 - val_loss: 2.3893 - val_mae: 1.1580\n",
      "Epoch 25/100\n",
      "295/295 - 0s - 2ms/step - loss: 2.2952 - mae: 1.1109 - val_loss: 2.3765 - val_mae: 1.1658\n",
      "Epoch 26/100\n",
      "295/295 - 0s - 2ms/step - loss: 2.2772 - mae: 1.1055 - val_loss: 2.3620 - val_mae: 1.1692\n",
      "Epoch 27/100\n",
      "295/295 - 0s - 1ms/step - loss: 2.2586 - mae: 1.0998 - val_loss: 2.3429 - val_mae: 1.1659\n",
      "Epoch 28/100\n",
      "295/295 - 0s - 1ms/step - loss: 2.2393 - mae: 1.0938 - val_loss: 2.3209 - val_mae: 1.1587\n",
      "Epoch 29/100\n",
      "295/295 - 1s - 2ms/step - loss: 2.2193 - mae: 1.0876 - val_loss: 2.3031 - val_mae: 1.1566\n",
      "Epoch 30/100\n",
      "295/295 - 0s - 1ms/step - loss: 2.1995 - mae: 1.0817 - val_loss: 2.2942 - val_mae: 1.1637\n",
      "Epoch 31/100\n",
      "295/295 - 1s - 2ms/step - loss: 2.1806 - mae: 1.0759 - val_loss: 2.2895 - val_mae: 1.1721\n",
      "Epoch 32/100\n",
      "295/295 - 0s - 1ms/step - loss: 2.1632 - mae: 1.0700 - val_loss: 2.2811 - val_mae: 1.1751\n",
      "Epoch 33/100\n",
      "295/295 - 0s - 1ms/step - loss: 2.1470 - mae: 1.0643 - val_loss: 2.2665 - val_mae: 1.1714\n",
      "Epoch 34/100\n",
      "295/295 - 0s - 1ms/step - loss: 2.1314 - mae: 1.0586 - val_loss: 2.2417 - val_mae: 1.1580\n",
      "Epoch 35/100\n",
      "295/295 - 0s - 1ms/step - loss: 2.1163 - mae: 1.0533 - val_loss: 2.2136 - val_mae: 1.1399\n",
      "Epoch 36/100\n",
      "295/295 - 0s - 1ms/step - loss: 2.1032 - mae: 1.0486 - val_loss: 2.1911 - val_mae: 1.1255\n",
      "Epoch 37/100\n",
      "295/295 - 0s - 1ms/step - loss: 2.0925 - mae: 1.0449 - val_loss: 2.1730 - val_mae: 1.1144\n",
      "Epoch 38/100\n",
      "295/295 - 0s - 1ms/step - loss: 2.0836 - mae: 1.0420 - val_loss: 2.1577 - val_mae: 1.1051\n",
      "Epoch 39/100\n",
      "295/295 - 0s - 1ms/step - loss: 2.0761 - mae: 1.0397 - val_loss: 2.1472 - val_mae: 1.1003\n",
      "Epoch 40/100\n",
      "295/295 - 0s - 2ms/step - loss: 2.0699 - mae: 1.0378 - val_loss: 2.1420 - val_mae: 1.1005\n",
      "Epoch 41/100\n",
      "295/295 - 0s - 1ms/step - loss: 2.0648 - mae: 1.0362 - val_loss: 2.1403 - val_mae: 1.1035\n",
      "Epoch 42/100\n",
      "295/295 - 0s - 1ms/step - loss: 2.0605 - mae: 1.0350 - val_loss: 2.1401 - val_mae: 1.1071\n",
      "Epoch 43/100\n",
      "295/295 - 0s - 1ms/step - loss: 2.0570 - mae: 1.0341 - val_loss: 2.1402 - val_mae: 1.1100\n",
      "Epoch 44/100\n",
      "295/295 - 0s - 1ms/step - loss: 2.0539 - mae: 1.0333 - val_loss: 2.1400 - val_mae: 1.1120\n",
      "Epoch 45/100\n",
      "295/295 - 0s - 1ms/step - loss: 2.0512 - mae: 1.0326 - val_loss: 2.1396 - val_mae: 1.1134\n",
      "Epoch 46/100\n",
      "295/295 - 1s - 2ms/step - loss: 2.0488 - mae: 1.0319 - val_loss: 2.1391 - val_mae: 1.1143\n",
      "Epoch 47/100\n",
      "295/295 - 1s - 2ms/step - loss: 2.0467 - mae: 1.0314 - val_loss: 2.1384 - val_mae: 1.1149\n",
      "Epoch 48/100\n",
      "295/295 - 0s - 1ms/step - loss: 2.0449 - mae: 1.0309 - val_loss: 2.1378 - val_mae: 1.1153\n",
      "Epoch 49/100\n",
      "295/295 - 0s - 1ms/step - loss: 2.0432 - mae: 1.0305 - val_loss: 2.1372 - val_mae: 1.1156\n",
      "Epoch 50/100\n",
      "295/295 - 0s - 2ms/step - loss: 2.0418 - mae: 1.0301 - val_loss: 2.1365 - val_mae: 1.1157\n",
      "Epoch 51/100\n",
      "295/295 - 0s - 2ms/step - loss: 2.0404 - mae: 1.0297 - val_loss: 2.1359 - val_mae: 1.1158\n",
      "Epoch 52/100\n",
      "295/295 - 0s - 1ms/step - loss: 2.0392 - mae: 1.0293 - val_loss: 2.1353 - val_mae: 1.1157\n",
      "Epoch 53/100\n",
      "295/295 - 0s - 1ms/step - loss: 2.0380 - mae: 1.0289 - val_loss: 2.1346 - val_mae: 1.1156\n",
      "Epoch 54/100\n",
      "295/295 - 0s - 1ms/step - loss: 2.0369 - mae: 1.0286 - val_loss: 2.1340 - val_mae: 1.1155\n",
      "Epoch 55/100\n",
      "295/295 - 0s - 1ms/step - loss: 2.0359 - mae: 1.0283 - val_loss: 2.1333 - val_mae: 1.1153\n",
      "Epoch 56/100\n",
      "295/295 - 0s - 2ms/step - loss: 2.0350 - mae: 1.0280 - val_loss: 2.1327 - val_mae: 1.1151\n",
      "Epoch 57/100\n",
      "295/295 - 0s - 2ms/step - loss: 2.0341 - mae: 1.0277 - val_loss: 2.1320 - val_mae: 1.1148\n",
      "Epoch 58/100\n",
      "295/295 - 0s - 1ms/step - loss: 2.0333 - mae: 1.0274 - val_loss: 2.1313 - val_mae: 1.1145\n",
      "Epoch 59/100\n",
      "295/295 - 0s - 1ms/step - loss: 2.0325 - mae: 1.0272 - val_loss: 2.1307 - val_mae: 1.1142\n",
      "Epoch 60/100\n",
      "295/295 - 0s - 1ms/step - loss: 2.0317 - mae: 1.0269 - val_loss: 2.1300 - val_mae: 1.1139\n",
      "Epoch 61/100\n",
      "295/295 - 0s - 1ms/step - loss: 2.0310 - mae: 1.0267 - val_loss: 2.1293 - val_mae: 1.1135\n",
      "Epoch 62/100\n",
      "295/295 - 0s - 1ms/step - loss: 2.0304 - mae: 1.0265 - val_loss: 2.1286 - val_mae: 1.1132\n",
      "Epoch 63/100\n",
      "295/295 - 1s - 2ms/step - loss: 2.0298 - mae: 1.0263 - val_loss: 2.1279 - val_mae: 1.1128\n",
      "Epoch 64/100\n",
      "295/295 - 0s - 1ms/step - loss: 2.0292 - mae: 1.0261 - val_loss: 2.1273 - val_mae: 1.1124\n",
      "Epoch 65/100\n",
      "295/295 - 0s - 1ms/step - loss: 2.0286 - mae: 1.0259 - val_loss: 2.1266 - val_mae: 1.1120\n",
      "Epoch 66/100\n",
      "295/295 - 0s - 1ms/step - loss: 2.0281 - mae: 1.0257 - val_loss: 2.1259 - val_mae: 1.1115\n",
      "Epoch 67/100\n",
      "295/295 - 0s - 1ms/step - loss: 2.0275 - mae: 1.0255 - val_loss: 2.1252 - val_mae: 1.1111\n",
      "Epoch 68/100\n",
      "295/295 - 0s - 1ms/step - loss: 2.0270 - mae: 1.0254 - val_loss: 2.1245 - val_mae: 1.1106\n",
      "Epoch 69/100\n",
      "295/295 - 0s - 1ms/step - loss: 2.0266 - mae: 1.0252 - val_loss: 2.1238 - val_mae: 1.1102\n",
      "Epoch 70/100\n",
      "295/295 - 0s - 1ms/step - loss: 2.0261 - mae: 1.0251 - val_loss: 2.1231 - val_mae: 1.1097\n",
      "Epoch 71/100\n",
      "295/295 - 0s - 2ms/step - loss: 2.0257 - mae: 1.0249 - val_loss: 2.1224 - val_mae: 1.1092\n",
      "Epoch 72/100\n",
      "295/295 - 0s - 1ms/step - loss: 2.0253 - mae: 1.0248 - val_loss: 2.1217 - val_mae: 1.1087\n",
      "Epoch 73/100\n",
      "295/295 - 0s - 2ms/step - loss: 2.0249 - mae: 1.0247 - val_loss: 2.1211 - val_mae: 1.1082\n",
      "Epoch 74/100\n",
      "295/295 - 0s - 1ms/step - loss: 2.0245 - mae: 1.0245 - val_loss: 2.1204 - val_mae: 1.1077\n",
      "Epoch 75/100\n",
      "295/295 - 0s - 1ms/step - loss: 2.0241 - mae: 1.0244 - val_loss: 2.1197 - val_mae: 1.1072\n",
      "Epoch 76/100\n",
      "295/295 - 0s - 1ms/step - loss: 2.0237 - mae: 1.0243 - val_loss: 2.1190 - val_mae: 1.1067\n",
      "Epoch 77/100\n",
      "295/295 - 0s - 1ms/step - loss: 2.0234 - mae: 1.0242 - val_loss: 2.1183 - val_mae: 1.1062\n",
      "Epoch 78/100\n",
      "295/295 - 0s - 2ms/step - loss: 2.0230 - mae: 1.0241 - val_loss: 2.1176 - val_mae: 1.1057\n",
      "Epoch 79/100\n",
      "295/295 - 0s - 2ms/step - loss: 2.0227 - mae: 1.0240 - val_loss: 2.1169 - val_mae: 1.1051\n",
      "Epoch 80/100\n",
      "295/295 - 0s - 1ms/step - loss: 2.0224 - mae: 1.0239 - val_loss: 2.1162 - val_mae: 1.1046\n",
      "Epoch 81/100\n",
      "295/295 - 1s - 2ms/step - loss: 2.0221 - mae: 1.0238 - val_loss: 2.1155 - val_mae: 1.1041\n",
      "Epoch 82/100\n",
      "295/295 - 0s - 1ms/step - loss: 2.0217 - mae: 1.0237 - val_loss: 2.1149 - val_mae: 1.1035\n",
      "Epoch 83/100\n",
      "295/295 - 0s - 1ms/step - loss: 2.0214 - mae: 1.0236 - val_loss: 2.1142 - val_mae: 1.1030\n",
      "Epoch 84/100\n",
      "295/295 - 0s - 1ms/step - loss: 2.0211 - mae: 1.0235 - val_loss: 2.1135 - val_mae: 1.1025\n",
      "Epoch 85/100\n",
      "295/295 - 1s - 2ms/step - loss: 2.0209 - mae: 1.0234 - val_loss: 2.1129 - val_mae: 1.1019\n",
      "Epoch 86/100\n",
      "295/295 - 0s - 1ms/step - loss: 2.0206 - mae: 1.0233 - val_loss: 2.1122 - val_mae: 1.1014\n",
      "Epoch 87/100\n",
      "295/295 - 0s - 1ms/step - loss: 2.0203 - mae: 1.0232 - val_loss: 2.1116 - val_mae: 1.1009\n",
      "Epoch 88/100\n",
      "295/295 - 0s - 1ms/step - loss: 2.0200 - mae: 1.0231 - val_loss: 2.1109 - val_mae: 1.1003\n",
      "Epoch 89/100\n",
      "295/295 - 1s - 2ms/step - loss: 2.0198 - mae: 1.0230 - val_loss: 2.1103 - val_mae: 1.0998\n",
      "Epoch 90/100\n",
      "295/295 - 0s - 2ms/step - loss: 2.0195 - mae: 1.0229 - val_loss: 2.1096 - val_mae: 1.0993\n",
      "Epoch 91/100\n",
      "295/295 - 0s - 1ms/step - loss: 2.0193 - mae: 1.0229 - val_loss: 2.1090 - val_mae: 1.0987\n",
      "Epoch 92/100\n",
      "295/295 - 0s - 1ms/step - loss: 2.0190 - mae: 1.0228 - val_loss: 2.1084 - val_mae: 1.0982\n",
      "Epoch 93/100\n",
      "295/295 - 0s - 1ms/step - loss: 2.0188 - mae: 1.0227 - val_loss: 2.1078 - val_mae: 1.0977\n",
      "Epoch 94/100\n",
      "295/295 - 0s - 1ms/step - loss: 2.0185 - mae: 1.0226 - val_loss: 2.1072 - val_mae: 1.0972\n",
      "Epoch 95/100\n",
      "295/295 - 0s - 2ms/step - loss: 2.0183 - mae: 1.0226 - val_loss: 2.1066 - val_mae: 1.0967\n",
      "Epoch 96/100\n",
      "295/295 - 0s - 1ms/step - loss: 2.0181 - mae: 1.0225 - val_loss: 2.1060 - val_mae: 1.0962\n",
      "Epoch 97/100\n",
      "295/295 - 0s - 2ms/step - loss: 2.0179 - mae: 1.0224 - val_loss: 2.1054 - val_mae: 1.0957\n",
      "Epoch 98/100\n",
      "295/295 - 0s - 1ms/step - loss: 2.0176 - mae: 1.0223 - val_loss: 2.1048 - val_mae: 1.0952\n",
      "Epoch 99/100\n",
      "295/295 - 0s - 2ms/step - loss: 2.0174 - mae: 1.0223 - val_loss: 2.1043 - val_mae: 1.0947\n",
      "Epoch 100/100\n",
      "295/295 - 0s - 1ms/step - loss: 2.0172 - mae: 1.0222 - val_loss: 2.1037 - val_mae: 1.0942\n"
     ]
    }
   ],
   "source": [
    "# fit the model (training)\n",
    "history = model1.fit( X_train, y_train, epochs=100, batch_size=32,\n",
    "                     validation_split=0.3, verbose=2,shuffle=False)"
   ]
  },
  {
   "cell_type": "code",
   "execution_count": 162,
   "id": "a67940cf-3737-4b95-8cab-098d763a1e9b",
   "metadata": {},
   "outputs": [
    {
     "name": "stdout",
     "output_type": "stream",
     "text": [
      "Test mae: 1.094\n"
     ]
    }
   ],
   "source": [
    "loss, mae = model1.evaluate(X_test, y_test, verbose=0)\n",
    "print('Test mae: %.3f' % mae)"
   ]
  },
  {
   "cell_type": "code",
   "execution_count": 163,
   "id": "063a8073-c7c6-47aa-a229-4e123a832f1e",
   "metadata": {},
   "outputs": [
    {
     "data": {
      "text/plain": [
       "[<matplotlib.lines.Line2D at 0x29a2250fb90>]"
      ]
     },
     "execution_count": 163,
     "metadata": {},
     "output_type": "execute_result"
    },
    {
     "data": {
      "image/png": "[encoded data removed]",
      "text/plain": [
       "<Figure size 640x480 with 1 Axes>"
      ]
     },
     "metadata": {},
     "output_type": "display_data"
    }
   ],
   "source": [
    "import matplotlib.pyplot as plt\n",
    "plt.plot(history.history['loss'][3:]) # loss is training loss\n",
    "plt.plot(history.history['val_loss'][3:]) # val_loss loss on the validation data / test loss"
   ]
  },
  {
   "cell_type": "code",
   "execution_count": null,
   "id": "607756db-d780-4388-ac78-084a96f583a8",
   "metadata": {},
   "outputs": [],
   "source": []
  }
 ],
 "metadata": {
  "kernelspec": {
   "display_name": "Python 3 (ipykernel)",
   "language": "python",
   "name": "python3"
  },
  "language_info": {
   "codemirror_mode": {
    "name": "ipython",
    "version": 3
   },
   "file_extension": ".py",
   "mimetype": "text/x-python",
   "name": "python",
   "nbconvert_exporter": "python",
   "pygments_lexer": "ipython3",
   "version": "3.12.4"
  }
 },
 "nbformat": 4,
 "nbformat_minor": 5
}
