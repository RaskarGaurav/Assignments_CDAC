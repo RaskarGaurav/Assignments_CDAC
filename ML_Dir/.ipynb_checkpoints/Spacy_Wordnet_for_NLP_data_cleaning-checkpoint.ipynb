{
  "nbformat": 4,
  "nbformat_minor": 0,
  "metadata": {
    "colab": {
      "provenance": []
    },
    "kernelspec": {
      "name": "python3",
      "display_name": "Python 3"
    },
    "language_info": {
      "name": "python"
    }
  },
  "cells": [
    {
      "cell_type": "code",
      "metadata": {
        "id": "m8f6AxJpBtcL"
      },
      "source": [
        "import pandas as pd"
      ],
      "execution_count": null,
      "outputs": []
    },
    {
      "cell_type": "code",
      "metadata": {
        "id": "_gD6SDzuCvNs"
      },
      "source": [
        "df = pd.read_csv(\"/content/drive/MyDrive/NLP_CV_with_Python/1 Day wise Notes/Day9/Airline_sentiment.csv\")"
      ],
      "execution_count": null,
      "outputs": []
    },
    {
      "cell_type": "code",
      "metadata": {
        "colab": {
          "base_uri": "https://localhost:8080/"
        },
        "id": "NE70xT-ADydi",
        "outputId": "3f611510-96ef-4624-8a99-07e2c5b33820"
      },
      "source": [
        "df.shape"
      ],
      "execution_count": null,
      "outputs": [
        {
          "output_type": "execute_result",
          "data": {
            "text/plain": [
              "(14640, 15)"
            ]
          },
          "metadata": {},
          "execution_count": 8
        }
      ]
    },
    {
      "cell_type": "code",
      "metadata": {
        "colab": {
          "base_uri": "https://localhost:8080/"
        },
        "id": "eFOvGRsHCzlF",
        "outputId": "1d8cce4b-a6d6-4ce6-9e73-ae47c93bc9bf"
      },
      "source": [
        "df.columns"
      ],
      "execution_count": null,
      "outputs": [
        {
          "output_type": "execute_result",
          "data": {
            "text/plain": [
              "Index(['tweet_id', 'airline_sentiment', 'airline_sentiment_confidence',\n",
              "       'negativereason', 'negativereason_confidence', 'airline',\n",
              "       'airline_sentiment_gold', 'name', 'negativereason_gold',\n",
              "       'retweet_count', 'text', 'tweet_coord', 'tweet_created',\n",
              "       'tweet_location', 'user_timezone'],\n",
              "      dtype='object')"
            ]
          },
          "metadata": {},
          "execution_count": 9
        }
      ]
    },
    {
      "cell_type": "code",
      "metadata": {
        "colab": {
          "base_uri": "https://localhost:8080/"
        },
        "id": "WL_EnBOoC1oF",
        "outputId": "4bcbfc02-30eb-4a1a-e015-173725521bba"
      },
      "source": [
        "df['text'].head()"
      ],
      "execution_count": null,
      "outputs": [
        {
          "output_type": "execute_result",
          "data": {
            "text/plain": [
              "0                  @VirginAmerica What @dhepburn said.\n",
              "1    @VirginAmerica plus you've added commercials t...\n",
              "2    @VirginAmerica I didn't today... Must mean I n...\n",
              "3    @VirginAmerica it's really aggressive to blast...\n",
              "4    @VirginAmerica and it's a really big bad thing...\n",
              "Name: text, dtype: object"
            ]
          },
          "metadata": {},
          "execution_count": 10
        }
      ]
    },
    {
      "cell_type": "code",
      "metadata": {
        "colab": {
          "base_uri": "https://localhost:8080/"
        },
        "id": "0xEN36K2C8l8",
        "outputId": "11c06f9d-95c3-4f4e-9873-5f45caf33e63"
      },
      "source": [
        "df['airline_sentiment'].head()"
      ],
      "execution_count": null,
      "outputs": [
        {
          "output_type": "execute_result",
          "data": {
            "text/plain": [
              "0     neutral\n",
              "1    positive\n",
              "2     neutral\n",
              "3    negative\n",
              "4    negative\n",
              "Name: airline_sentiment, dtype: object"
            ]
          },
          "metadata": {},
          "execution_count": 11
        }
      ]
    },
    {
      "cell_type": "code",
      "metadata": {
        "colab": {
          "base_uri": "https://localhost:8080/"
        },
        "id": "rouy7mTyDI8a",
        "outputId": "3cbfb5b4-732f-44ee-946a-77f389053112"
      },
      "source": [
        "df['airline_sentiment'].unique()"
      ],
      "execution_count": null,
      "outputs": [
        {
          "output_type": "execute_result",
          "data": {
            "text/plain": [
              "array(['neutral', 'positive', 'negative'], dtype=object)"
            ]
          },
          "metadata": {},
          "execution_count": 12
        }
      ]
    },
    {
      "cell_type": "code",
      "metadata": {
        "id": "iAvrFE2gDMZH"
      },
      "source": [
        "import spacy\n",
        "nlp = spacy.load('en_core_web_sm')\n",
        "# update the stop word list to contain\n",
        "# most frequent and\n",
        "# most rare words from the dataset\n",
        "# then apply the model to text\n",
        "# ref : https://stackoverflow.com/questions/41170726/add-remove-custom-stop-words-with-spacy"
      ],
      "execution_count": null,
      "outputs": []
    },
    {
      "cell_type": "code",
      "metadata": {
        "id": "rBkcHANKDtbf"
      },
      "source": [
        "all_text = df['text'].apply(nlp)"
      ],
      "execution_count": null,
      "outputs": []
    },
    {
      "cell_type": "code",
      "metadata": {
        "colab": {
          "base_uri": "https://localhost:8080/"
        },
        "id": "_V3B51njDwZa",
        "outputId": "20f2ff80-4702-4a49-d938-9f131ac332e2"
      },
      "source": [
        "len(all_text)"
      ],
      "execution_count": null,
      "outputs": [
        {
          "output_type": "execute_result",
          "data": {
            "text/plain": [
              "14640"
            ]
          },
          "metadata": {},
          "execution_count": 15
        }
      ]
    },
    {
      "cell_type": "code",
      "metadata": {
        "colab": {
          "base_uri": "https://localhost:8080/"
        },
        "id": "G5KltG5MEloi",
        "outputId": "6e7803f6-43d2-4099-df24-40f27106187a"
      },
      "source": [
        "all_text[:5]"
      ],
      "execution_count": null,
      "outputs": [
        {
          "output_type": "execute_result",
          "data": {
            "text/plain": [
              "0           (@VirginAmerica, What, @dhepburn, said, .)\n",
              "1    (@VirginAmerica, plus, you, 've, added, commer...\n",
              "2    (@VirginAmerica, I, did, n't, today, ..., Must...\n",
              "3    (@VirginAmerica, it, 's, really, aggressive, t...\n",
              "4    (@VirginAmerica, and, it, 's, a, really, big, ...\n",
              "Name: text, dtype: object"
            ]
          },
          "metadata": {},
          "execution_count": 16
        }
      ]
    },
    {
      "cell_type": "code",
      "source": [
        "from google.colab import drive\n",
        "drive.mount('/content/drive')"
      ],
      "metadata": {
        "colab": {
          "base_uri": "https://localhost:8080/"
        },
        "id": "oVa13wYBPHpV",
        "outputId": "282fd121-5ab0-4330-e4ed-69daec222199"
      },
      "execution_count": null,
      "outputs": [
        {
          "output_type": "stream",
          "name": "stdout",
          "text": [
            "Mounted at /content/drive\n"
          ]
        }
      ]
    },
    {
      "cell_type": "code",
      "metadata": {
        "id": "hIstVQZBEnl4"
      },
      "source": [
        "# is_stop to remove stop words\n",
        "# lemma_ to extract the lemmatized text\n",
        "# like_num\n",
        "# like_email\n",
        "clean_text = []\n",
        "for line in all_text:\n",
        "  clean_line = []\n",
        "  for token in line:\n",
        "    if token.is_stop == True:\n",
        "      pass\n",
        "    elif token.like_num == True:\n",
        "      clean_line.append('num')\n",
        "    elif token.like_email == True:\n",
        "      clean_line.append('email')\n",
        "    elif token.like_url == True:\n",
        "      clean_line.append('url')\n",
        "    elif token.__len__() <=2:\n",
        "      pass\n",
        "    elif (token.is_punct == True) or (token.is_quote == True):\n",
        "      pass\n",
        "    else:\n",
        "      clean_line.append(token.lemma_.lower())\n",
        "  clean_text.append(clean_line)"
      ],
      "execution_count": null,
      "outputs": []
    },
    {
      "cell_type": "code",
      "metadata": {
        "colab": {
          "base_uri": "https://localhost:8080/"
        },
        "id": "F3pX16ppHTxf",
        "outputId": "19fc0294-907b-40e1-dbf8-a5705955f3bc"
      },
      "source": [
        "len(clean_text)"
      ],
      "execution_count": null,
      "outputs": [
        {
          "output_type": "execute_result",
          "data": {
            "text/plain": [
              "14640"
            ]
          },
          "metadata": {},
          "execution_count": 18
        }
      ]
    },
    {
      "cell_type": "code",
      "metadata": {
        "colab": {
          "base_uri": "https://localhost:8080/"
        },
        "id": "d-6Geaw3HVBC",
        "outputId": "18ab5cae-a415-4859-efac-cb9c0bae6782"
      },
      "source": [
        "clean_text[:5]"
      ],
      "execution_count": null,
      "outputs": [
        {
          "output_type": "execute_result",
          "data": {
            "text/plain": [
              "[['@virginamerica', '@dhepburn', 'say'],\n",
              " ['@virginamerica', 'plus', 'add', 'commercial', 'experience', 'tacky'],\n",
              " ['@virginamerica', 'today', 'mean', 'need', 'trip'],\n",
              " ['@virginamerica',\n",
              "  'aggressive',\n",
              "  'blast',\n",
              "  'obnoxious',\n",
              "  'entertainment',\n",
              "  'guest',\n",
              "  'face',\n",
              "  'amp',\n",
              "  'little',\n",
              "  'recourse'],\n",
              " ['@virginamerica', 'big', 'bad', 'thing']]"
            ]
          },
          "metadata": {},
          "execution_count": 19
        }
      ]
    },
    {
      "cell_type": "markdown",
      "metadata": {
        "id": "3TSa5DRoIUpn"
      },
      "source": [
        "# Create dictionary of unique words"
      ]
    },
    {
      "cell_type": "code",
      "metadata": {
        "id": "50Aiw-tVHW1R"
      },
      "source": [
        "clean_text_list = sum(clean_text,[])\n",
        "\n",
        "# program, plan  --> replace second one with the first one\n"
      ],
      "execution_count": null,
      "outputs": []
    },
    {
      "cell_type": "code",
      "metadata": {
        "colab": {
          "base_uri": "https://localhost:8080/"
        },
        "id": "e3TYYV6SKz3L",
        "outputId": "1bae28ca-3838-4e66-97dd-eb2e97141ee0"
      },
      "source": [
        "len(clean_text_list), clean_text_list[:5]"
      ],
      "execution_count": null,
      "outputs": [
        {
          "output_type": "execute_result",
          "data": {
            "text/plain": [
              "(131217, ['@virginamerica', '@dhepburn', 'say', '@virginamerica', 'plus'])"
            ]
          },
          "metadata": {},
          "execution_count": 21
        }
      ]
    },
    {
      "cell_type": "code",
      "metadata": {
        "id": "WbuD4jgLK2Zt"
      },
      "source": [
        "dictionary = set(clean_text_list)"
      ],
      "execution_count": null,
      "outputs": []
    },
    {
      "cell_type": "code",
      "metadata": {
        "colab": {
          "base_uri": "https://localhost:8080/"
        },
        "id": "v6vNxmu4K-NN",
        "outputId": "486591c6-6e32-498d-83d8-d538a5cff470"
      },
      "source": [
        "len(dictionary)"
      ],
      "execution_count": null,
      "outputs": [
        {
          "output_type": "execute_result",
          "data": {
            "text/plain": [
              "11378"
            ]
          },
          "metadata": {},
          "execution_count": 23
        }
      ]
    },
    {
      "cell_type": "code",
      "metadata": {
        "colab": {
          "base_uri": "https://localhost:8080/"
        },
        "id": "2IfSEHBoLEDg",
        "outputId": "948a2722-2e62-420c-dfd5-c2e6839319a0"
      },
      "source": [
        "list(dictionary)[:5]"
      ],
      "execution_count": null,
      "outputs": [
        {
          "output_type": "execute_result",
          "data": {
            "text/plain": [
              "['compensate', '@dotnetnate', '11:51', 'gras', 'label']"
            ]
          },
          "metadata": {},
          "execution_count": 24
        }
      ]
    },
    {
      "cell_type": "markdown",
      "metadata": {
        "id": "_ea1GcPAIYBu"
      },
      "source": [
        "# Use wordnet to check Synonyms"
      ]
    },
    {
      "cell_type": "markdown",
      "metadata": {
        "id": "sgTZ9EGjMRtn"
      },
      "source": [
        "## Sample program for checking synonyms and antonyms"
      ]
    },
    {
      "cell_type": "code",
      "metadata": {
        "colab": {
          "base_uri": "https://localhost:8080/"
        },
        "id": "Lzy4-45qIixO",
        "outputId": "5543bd46-f3f1-4c8a-9209-c14776dcb3af"
      },
      "source": [
        "import nltk\n",
        "nltk.download('wordnet')"
      ],
      "execution_count": null,
      "outputs": [
        {
          "output_type": "stream",
          "name": "stderr",
          "text": [
            "[nltk_data] Downloading package wordnet to /root/nltk_data...\n"
          ]
        },
        {
          "output_type": "execute_result",
          "data": {
            "text/plain": [
              "True"
            ]
          },
          "metadata": {},
          "execution_count": 25
        }
      ]
    },
    {
      "cell_type": "code",
      "metadata": {
        "id": "LPqVNR7xIaeU"
      },
      "source": [
        "from nltk.corpus import wordnet"
      ],
      "execution_count": null,
      "outputs": []
    },
    {
      "cell_type": "code",
      "metadata": {
        "id": "t99lWLSVIefa"
      },
      "source": [
        "syns = wordnet.synsets(\"program\")"
      ],
      "execution_count": null,
      "outputs": []
    },
    {
      "cell_type": "code",
      "metadata": {
        "colab": {
          "base_uri": "https://localhost:8080/"
        },
        "id": "01pQJpekIgLd",
        "outputId": "117e4c9b-3fb8-4ed4-d3bb-0db84ca24512"
      },
      "source": [
        "syns"
      ],
      "execution_count": null,
      "outputs": [
        {
          "output_type": "execute_result",
          "data": {
            "text/plain": [
              "[Synset('plan.n.01'),\n",
              " Synset('program.n.02'),\n",
              " Synset('broadcast.n.02'),\n",
              " Synset('platform.n.02'),\n",
              " Synset('program.n.05'),\n",
              " Synset('course_of_study.n.01'),\n",
              " Synset('program.n.07'),\n",
              " Synset('program.n.08'),\n",
              " Synset('program.v.01'),\n",
              " Synset('program.v.02')]"
            ]
          },
          "metadata": {},
          "execution_count": 28
        }
      ]
    },
    {
      "cell_type": "code",
      "metadata": {
        "colab": {
          "base_uri": "https://localhost:8080/"
        },
        "id": "NQcs-N2rIns_",
        "outputId": "1d422790-8006-4b01-80f9-5d4b138fb543"
      },
      "source": [
        "for i in range(len(syns)):\n",
        "   print(syns[i].lemmas()[0].name())"
      ],
      "execution_count": null,
      "outputs": [
        {
          "output_type": "stream",
          "name": "stdout",
          "text": [
            "plan\n",
            "program\n",
            "broadcast\n",
            "platform\n",
            "program\n",
            "course_of_study\n",
            "program\n",
            "program\n",
            "program\n",
            "program\n"
          ]
        }
      ]
    },
    {
      "cell_type": "code",
      "metadata": {
        "colab": {
          "base_uri": "https://localhost:8080/"
        },
        "id": "j8s1-ryCIvHn",
        "outputId": "aaeb9a32-e296-4047-e009-fa1d60743288"
      },
      "source": [
        "synonyms = []\n",
        "antonyms = []\n",
        "\n",
        "for syn in wordnet.synsets(\"good\"):\n",
        "    for l in syn.lemmas():\n",
        "        synonyms.append(l.name())\n",
        "        if l.antonyms():\n",
        "            antonyms.append(l.antonyms()[0].name())\n",
        "\n",
        "print(set(synonyms))\n",
        "print(set(antonyms))"
      ],
      "execution_count": null,
      "outputs": [
        {
          "output_type": "stream",
          "name": "stdout",
          "text": [
            "{'well', 'thoroughly', 'just', 'secure', 'effective', 'goodness', 'practiced', 'estimable', 'right', 'dear', 'honest', 'salutary', 'beneficial', 'serious', 'respectable', 'in_force', 'unspoilt', 'proficient', 'in_effect', 'sound', 'honorable', 'undecomposed', 'soundly', 'unspoiled', 'ripe', 'skilful', 'upright', 'expert', 'commodity', 'near', 'dependable', 'trade_good', 'full', 'skillful', 'good', 'safe', 'adept'}\n",
            "{'evil', 'evilness', 'ill', 'badness', 'bad'}\n"
          ]
        }
      ]
    },
    {
      "cell_type": "markdown",
      "metadata": {
        "id": "P9ZFWtLNJ_jc"
      },
      "source": [
        "#### Reference : https://pythonprogramming.net/wordnet-nltk-tutorial/"
      ]
    },
    {
      "cell_type": "markdown",
      "metadata": {
        "id": "NRFn_-80MWhe"
      },
      "source": [
        "## Apply wordnet for reducing features in dictionary"
      ]
    },
    {
      "cell_type": "code",
      "metadata": {
        "id": "v2rwDUATKA11"
      },
      "source": [
        "word_map={}\n",
        "rev_map={}\n",
        "for word in dictionary:\n",
        "  if word not in rev_map:\n",
        "    word_map[word]=[]\n",
        "    for syn in wordnet.synsets(word):\n",
        "      for l in syn.lemmas():\n",
        "        if (l.name() != word) and (l.name() in dictionary):\n",
        "          word_map[word].append(l.name())\n",
        "          rev_map[l.name()]=word"
      ],
      "execution_count": null,
      "outputs": []
    },
    {
      "cell_type": "code",
      "metadata": {
        "colab": {
          "base_uri": "https://localhost:8080/"
        },
        "id": "vDc6NgatOKfN",
        "outputId": "729d30d2-5ee0-4cfc-868b-1d619c7ed8c5"
      },
      "source": [
        "len(word_map)"
      ],
      "execution_count": null,
      "outputs": [
        {
          "output_type": "execute_result",
          "data": {
            "text/plain": [
              "9551"
            ]
          },
          "metadata": {},
          "execution_count": 32
        }
      ]
    },
    {
      "cell_type": "code",
      "metadata": {
        "colab": {
          "base_uri": "https://localhost:8080/"
        },
        "id": "a7EfLcB_OM7l",
        "outputId": "771f8969-acee-44c1-ecf1-d08e75af3e62"
      },
      "source": [
        "len(rev_map)"
      ],
      "execution_count": null,
      "outputs": [
        {
          "output_type": "execute_result",
          "data": {
            "text/plain": [
              "2091"
            ]
          },
          "metadata": {},
          "execution_count": 33
        }
      ]
    },
    {
      "cell_type": "code",
      "metadata": {
        "colab": {
          "base_uri": "https://localhost:8080/"
        },
        "id": "twl3npOOOO20",
        "outputId": "33f4c2d4-cf20-4ecb-9e9e-53c8bc473473"
      },
      "source": [
        "rev_map"
      ],
      "execution_count": null,
      "outputs": [
        {
          "output_type": "execute_result",
          "data": {
            "text/plain": [
              "{'correct': 'adjust',\n",
              " 'repair': 'revive',\n",
              " 'cover': 'deals',\n",
              " 'right': 'proper',\n",
              " 'pay': 'compensate',\n",
              " 'tag': 'chasing',\n",
              " 'mark': 'tagging',\n",
              " 'pronounce': 'saying',\n",
              " 'flavor': 'feels',\n",
              " 'temper': 'surliness',\n",
              " 'account': 'invoice',\n",
              " 'story': 'fib',\n",
              " 'randomly': 'arbitrarily',\n",
              " 'dice': 'die',\n",
              " 'go': 'passed',\n",
              " 'exit': 'passed',\n",
              " 'expire': 'passed',\n",
              " 'pass': 'passed',\n",
              " 'fail': 'broke',\n",
              " 'break': 'offended',\n",
              " 'fire': 'firing',\n",
              " 'raise': 'enhance',\n",
              " 'pick': 'cleaning',\n",
              " 'bat': 'cream',\n",
              " 'lick': 'working',\n",
              " 'section': 'department',\n",
              " 'reach': 'passed',\n",
              " 'championship': 'backup',\n",
              " 'deed': 'title',\n",
              " 'claim': 'taking',\n",
              " 'entitle': 'entitled',\n",
              " 'style': 'styling',\n",
              " 'alas': 'unfortunately',\n",
              " 'sponsor': 'patronizing',\n",
              " 'shop': 'patronizing',\n",
              " 'frequent': 'patronizing',\n",
              " 'condescend': 'patronizing',\n",
              " 'support': 'holding',\n",
              " 'pocket': 'bags',\n",
              " 'clog': 'congest',\n",
              " 'surcharge': 'robbed',\n",
              " 'overcharge': 'robbed',\n",
              " 'cheque': 'check',\n",
              " 'tab': 'tablet',\n",
              " 'hitch': 'tour',\n",
              " 'stay': 'stuck',\n",
              " 'stop': 'broke',\n",
              " 'confirmation': 'check',\n",
              " 'verification': 'check',\n",
              " 'checkout': 'check',\n",
              " 'tick': 'click',\n",
              " 'impediment': 'check',\n",
              " 'handicap': 'disability',\n",
              " 'chip': 'check',\n",
              " 'curb': 'holding',\n",
              " 'see': 'views',\n",
              " 'insure': 'assuring',\n",
              " 'ensure': 'assuring',\n",
              " 'control': 'holding',\n",
              " 'assure': 'assuring',\n",
              " 'hold': 'appreciation',\n",
              " 'contain': 'holding',\n",
              " 'moderate': 'holding',\n",
              " 'retard': 'delays',\n",
              " 'delay': 'delays',\n",
              " 'match': 'peer',\n",
              " 'fit': 'accommodating',\n",
              " 'agree': 'holding',\n",
              " 'discipline': 'conditioning',\n",
              " 'train': 'gear',\n",
              " 'condition': 'conditioning',\n",
              " 'checker': 'checked',\n",
              " 'determine': 'seeing',\n",
              " 'watch': 'views',\n",
              " 'learn': 'seeing',\n",
              " 'ignorant': 'illiterate',\n",
              " 'windy': 'tedious',\n",
              " 'place': 'committed',\n",
              " 'spot': 'points',\n",
              " 'property': 'holding',\n",
              " 'position': 'views',\n",
              " 'home': 'plate',\n",
              " 'post': 'sent',\n",
              " 'office': 'bureau',\n",
              " 'situation': 'places',\n",
              " 'station': 'sent',\n",
              " 'seat': 'sat',\n",
              " 'space': 'infinite',\n",
              " 'put': 'committed',\n",
              " 'set': 'lots',\n",
              " 'rate': 'ordering',\n",
              " 'rank': 'ordering',\n",
              " 'range': 'ordering',\n",
              " 'order': 'saying',\n",
              " 'grade': 'ordering',\n",
              " 'locate': 'places',\n",
              " 'site': 'website',\n",
              " 'target': 'pointing',\n",
              " 'aim': 'pointing',\n",
              " 'direct': 'sent',\n",
              " 'point': 'tips',\n",
              " 'localize': 'places',\n",
              " 'invest': 'committed',\n",
              " 'commit': 'charging',\n",
              " 'send': 'charging',\n",
              " 'treatment': 'handling',\n",
              " 'manage': 'deals',\n",
              " 'deal': 'deals',\n",
              " 'care': 'deals',\n",
              " 'handle': 'deals',\n",
              " 'treat': 'deals',\n",
              " 'plow': 'deals',\n",
              " 'address': 'speaking',\n",
              " 'palm': 'medallion',\n",
              " 'twist': 'device',\n",
              " 'wrench': 'pull',\n",
              " 'turn': 'bout',\n",
              " 'hall': 'dorm',\n",
              " 'base': 'theme',\n",
              " 'rack': 'torture',\n",
              " 'stall': 'kiosk',\n",
              " 'bear': 'holding',\n",
              " 'suffer': 'having',\n",
              " 'fend': 'stood',\n",
              " 'observation': 'reflection',\n",
              " 'notification': 'notice',\n",
              " 'bill': 'charging',\n",
              " 'card': 'wit',\n",
              " 'observe': 'celebrating',\n",
              " 'find': 'received',\n",
              " 'discover': 'broke',\n",
              " 'note': 'marks',\n",
              " 'comment': 'input',\n",
              " 'remark': 'input',\n",
              " 'acknowledge': 'receipt',\n",
              " 'brilliant': 'superb',\n",
              " 'smart': 'wise',\n",
              " 'hopeful': 'bright',\n",
              " 'promising': 'bright',\n",
              " 'restore': 'doctor',\n",
              " 'retrieve': 'remember',\n",
              " 'regain': 'recover',\n",
              " 'recoup': 'reimburse',\n",
              " 'reclaim': 'reform',\n",
              " 'miserable': 'lowest',\n",
              " 'refer': 'touching',\n",
              " 'brood': 'hover',\n",
              " 'lie': 'lied',\n",
              " 'populate': 'living',\n",
              " 'live': 'hot',\n",
              " 'absurd': 'idiotic',\n",
              " 'ridiculous': 'pathetic',\n",
              " 'annoying': 'pesky',\n",
              " 'unsettle': 'unnerve',\n",
              " 'disturb': 'upsetting',\n",
              " 'trouble': 'difficulty',\n",
              " 'worried': 'upset',\n",
              " 'broken': 'lowest',\n",
              " 'confused': 'illogical',\n",
              " 'flower': 'flowers',\n",
              " 'prime': 'select',\n",
              " 'height': 'peak',\n",
              " 'summit': 'tips',\n",
              " 'top': 'passed',\n",
              " 'tip': 'tips',\n",
              " 'visor': 'peak',\n",
              " 'butt': 'cigarette',\n",
              " 'bum': 'cheaper',\n",
              " 'can': 'throne',\n",
              " 'rear': 'bums',\n",
              " 'ass': 'bums',\n",
              " 'quarter': 'tail',\n",
              " 'poop': 'shits',\n",
              " 'chase': 'chasing',\n",
              " 'dog': 'click',\n",
              " 'track': 'chasing',\n",
              " 'certain': 'sure',\n",
              " 'surely': 'sure',\n",
              " 'certainly': 'sure',\n",
              " 'appreciate': 'appreciated',\n",
              " 'prize': 'respect',\n",
              " 'value': 'respect',\n",
              " 'treasure': 'appreciated',\n",
              " 'center': 'essence',\n",
              " 'middle': 'eyes',\n",
              " 'midway': 'halfway',\n",
              " 'necessity': 'necessary',\n",
              " 'essential': 'crucial',\n",
              " 'requirement': 'necessary',\n",
              " 'trust': 'believe',\n",
              " 'leave': 'left',\n",
              " 'flutter': 'disruption',\n",
              " 'fleet': 'passed',\n",
              " 'scoot': 'dart',\n",
              " 'shoot': 'charging',\n",
              " 'crappy': 'rotten',\n",
              " 'lousy': 'filthy',\n",
              " 'shitty': 'rotten',\n",
              " 'kat': 'kats',\n",
              " 'cat': 'vomit',\n",
              " 'get': 'beginning',\n",
              " 'father': 'got',\n",
              " 'generate': 'got',\n",
              " 'worthy': 'desirable',\n",
              " 'hook': 'cop',\n",
              " 'sneak': 'mouse',\n",
              " 'lift': 'arise',\n",
              " 'comfort': 'comforting',\n",
              " 'prefer': 'choosing',\n",
              " 'choose': 'choosing',\n",
              " 'opt': 'choosing',\n",
              " 'favor': 'privilege',\n",
              " 'favorite': 'preferred',\n",
              " 'pet': 'preferred',\n",
              " 'incentive': 'bonus',\n",
              " 'price': 'pricing',\n",
              " 'toll': 'cost',\n",
              " 'attempt': 'tried',\n",
              " 'try': 'stressed',\n",
              " 'sweat': 'effort',\n",
              " 'feat': 'effort',\n",
              " 'campaign': 'safari',\n",
              " 'cause': 'having',\n",
              " 'drive': 'motor',\n",
              " 'movement': 'moves',\n",
              " 'partner': 'mate',\n",
              " 'cookie': 'biscuit',\n",
              " 'inquiry': 'question',\n",
              " 'query': 'question',\n",
              " 'head': 'pointing',\n",
              " 'doubt': 'uncertainty',\n",
              " 'motion': 'gesture',\n",
              " 'interrogate': 'question',\n",
              " 'interview': 'audience',\n",
              " 'wonder': 'curiosity',\n",
              " 'sit': 'sat',\n",
              " 'rag': 'scolding',\n",
              " 'bait': 'ride',\n",
              " 'class': 'sorted',\n",
              " 'family': 'kin',\n",
              " 'attention': 'cares',\n",
              " 'caution': 'cares',\n",
              " 'concern': 'headache',\n",
              " 'fear': 'awe',\n",
              " 'charge': 'charging',\n",
              " 'maintenance': 'cares',\n",
              " 'wish': 'cares',\n",
              " 'like': 'comparable',\n",
              " 'worry': 'headache',\n",
              " 'promise': 'assuring',\n",
              " 'desire': 'hope',\n",
              " 'interrupt': 'broke',\n",
              " 'car': 'auto',\n",
              " 'automobile': 'auto',\n",
              " 'machine': 'auto',\n",
              " 'plan': 'planes',\n",
              " 'project': 'seeing',\n",
              " 'design': 'planes',\n",
              " 'sympathetic': 'appealing',\n",
              " 'individual': 'private',\n",
              " 'someone': 'person',\n",
              " 'somebody': 'person',\n",
              " 'soul': 'person',\n",
              " 'addition': 'gains',\n",
              " 'gain': 'hits',\n",
              " 'increment': 'increase',\n",
              " 'assist': 'helping',\n",
              " 'assistance': 'helps',\n",
              " 'assistant': 'helps',\n",
              " 'helper': 'helps',\n",
              " 'supporter': 'booster',\n",
              " 'avail': 'helping',\n",
              " 'service': 'helps',\n",
              " 'serve': 'processing',\n",
              " 'slip': 'slide',\n",
              " 'cut': 'slash',\n",
              " 'reduce': 'concentrate',\n",
              " 'sheer': 'transparent',\n",
              " 'trend': 'veers',\n",
              " 'veer': 'veers',\n",
              " 'slew': 'deals',\n",
              " 'issue': 'emerging',\n",
              " 'edit': 'cutting',\n",
              " 'skip': 'hop',\n",
              " 'hack': 'plug',\n",
              " 'burn': 'glow',\n",
              " 'ignore': 'ignored',\n",
              " 'disregard': 'ignored',\n",
              " 'contract': 'got',\n",
              " 'thin': 'slight',\n",
              " 'fool': 'marks',\n",
              " 'reward': 'rewards',\n",
              " 'doc': 'dr.',\n",
              " 'fix': 'location',\n",
              " 'fantastic': 'wonderful',\n",
              " 'grand': 'august',\n",
              " 'terrific': 'wonderful',\n",
              " 'tremendous': 'enormous',\n",
              " 'keep': 'celebrating',\n",
              " 'fete': 'celebrating',\n",
              " 'toilet': 'throne',\n",
              " 'lavatory': 'john',\n",
              " 'bathroom': 'john',\n",
              " 'trick': 'magic',\n",
              " 'apologize': 'excuses',\n",
              " 'excuse': 'relieved',\n",
              " 'justify': 'warrant',\n",
              " 'mix': 'merging',\n",
              " 'beg': 'tap',\n",
              " 'prompt': 'inspiring',\n",
              " 'cue': 'clue',\n",
              " 'island': 'islands',\n",
              " 'bundle': 'cluster',\n",
              " 'software': 'package',\n",
              " 'box': 'corner',\n",
              " 'pilot': 'flew',\n",
              " 'tire': 'exhausting',\n",
              " 'handbag': 'bags',\n",
              " 'purse': 'bags',\n",
              " 'suitcase': 'bags',\n",
              " 'mile': 'mis',\n",
              " 'recline': 'reclining',\n",
              " 'aggressive': 'belligerent',\n",
              " 'flight': 'flights',\n",
              " 'fly': 'flew',\n",
              " 'wing': 'extension',\n",
              " 'vanish': 'disappear',\n",
              " 'quick': 'fastest',\n",
              " 'fast': 'fastest',\n",
              " 'infinity': 'eternity',\n",
              " 'air': 'sent',\n",
              " 'gather': 'gains',\n",
              " 'table': 'board',\n",
              " 'defer': 'submitted',\n",
              " 'police': 'law',\n",
              " 'run': 'passed',\n",
              " 'function': 'working',\n",
              " 'work': 'working',\n",
              " 'maneuver': 'operating',\n",
              " 'engage': 'operating',\n",
              " 'lock': 'operating',\n",
              " 'boss': 'emboss',\n",
              " 'stamp': 'emboss',\n",
              " 'web': 'webs',\n",
              " 'network': 'webs',\n",
              " 'net': 'final',\n",
              " 'friendly': 'friendliest',\n",
              " 'grace': 'goodwill',\n",
              " 'jam': 'james',\n",
              " 'ram': 'james',\n",
              " 'bone': 'pearl',\n",
              " 'fare': 'comes',\n",
              " 'drink': 'potable',\n",
              " 'accept': 'having',\n",
              " 'agreement': 'correspondence',\n",
              " 'organization': 'constitution',\n",
              " 'system': 'arrangement',\n",
              " 'host': 'server',\n",
              " 'interest': 'concerned',\n",
              " 'occupy': 'taking',\n",
              " 'tree': 'corner',\n",
              " 'direction': 'management',\n",
              " 'steering': 'guidance',\n",
              " 'passion': 'loves',\n",
              " 'beloved': 'loves',\n",
              " 'dear': 'loves',\n",
              " 'honey': 'loves',\n",
              " 'enjoy': 'loves',\n",
              " 'know': 'loves',\n",
              " 'screw': 'loves',\n",
              " 'fuck': 'loves',\n",
              " 'eff': 'loves',\n",
              " 'bed': 'loves',\n",
              " 'rough': 'rocky',\n",
              " 'key': 'central',\n",
              " 'bother': 'inconvenience',\n",
              " 'irritate': 'annoyed',\n",
              " 'laugh': 'laughter',\n",
              " 'prank': 'joke',\n",
              " 'focus': 'concentrate',\n",
              " 'centre': 'essence',\n",
              " 'rivet': 'concentrate',\n",
              " 'course': 'ran',\n",
              " 'water': 'h2o',\n",
              " 'make': 'holding',\n",
              " 'wholly': 'entirely',\n",
              " 'completely': 'entirely',\n",
              " 'totally': 'entirely',\n",
              " 'exclusively': 'entirely',\n",
              " 'especially': 'particularly',\n",
              " 'specially': 'particularly',\n",
              " 'rival': 'touching',\n",
              " 'competition': 'contest',\n",
              " 'grey': 'gray',\n",
              " 'face': 'presenting',\n",
              " 'slope': 'side',\n",
              " 'neglect': 'dropping',\n",
              " 'nonperformance': 'negligence',\n",
              " 'gap': 'breaks',\n",
              " 'scatter': 'dot',\n",
              " 'paste': 'spread',\n",
              " 'unfold': 'spread',\n",
              " 'open': 'afford',\n",
              " 'diffuse': 'spread',\n",
              " 'argument': 'parameter',\n",
              " 'consider': 'deals',\n",
              " 'deliberate': 'debating',\n",
              " 'argue': 'reason',\n",
              " 'contend': 'compete',\n",
              " 'confuse': 'confusing',\n",
              " 'throw': 'holding',\n",
              " 'char': 'women',\n",
              " 'reference': 'extension',\n",
              " 'cite': 'quote',\n",
              " 'acknowledgment': 'recognition',\n",
              " 'credit': 'recognition',\n",
              " 'quotation': 'quote',\n",
              " 'name': 'making',\n",
              " 'humiliate': 'humiliating',\n",
              " 'game': 'biz',\n",
              " 'patch': 'plot',\n",
              " 'plat': 'plot',\n",
              " 'fresh': 'refreshing',\n",
              " 'novel': 'refreshing',\n",
              " 'young': 'youth',\n",
              " 'newly': 'new',\n",
              " 'manner': 'way',\n",
              " 'fashion': 'fashioned',\n",
              " 'means': 'way',\n",
              " 'agency': 'bureau',\n",
              " 'path': 'itinerary',\n",
              " 'room': 'boarded',\n",
              " 'disgust': 'disgusting',\n",
              " 'sick': 'pale',\n",
              " 'length': 'distance',\n",
              " 'shot': 'shaft',\n",
              " 'dig': 'hollow',\n",
              " 'ray': 'res',\n",
              " 'dick': 'shaft',\n",
              " 'tool': 'instrument',\n",
              " 'cheat': 'wander',\n",
              " 'jockey': 'shaft',\n",
              " 'kid': 'kids',\n",
              " 'television': 'tv',\n",
              " 'video': 'tv',\n",
              " 'proficient': 'best',\n",
              " 'expert': 'best',\n",
              " 'rat': 'bums',\n",
              " 'shit': 'sob',\n",
              " 'one': 'iest',\n",
              " 'exclusive': 'single',\n",
              " 'vino': 'wine',\n",
              " 'language': 'terminology',\n",
              " 'obviously': 'evidently',\n",
              " 'apparently': 'evidently',\n",
              " 'plainly': 'simply',\n",
              " 'plain': 'apparent',\n",
              " 'inept': 'awkward',\n",
              " 'embarrassing': 'awkward',\n",
              " 'natural': 'rude',\n",
              " 'scratch': 'cancelled',\n",
              " 'delete': 'cancelled',\n",
              " 'chain': 'strand',\n",
              " 'string': 'strand',\n",
              " 'ground': 'stranded',\n",
              " 'transportation': 'transit',\n",
              " 'transport': 'delighted',\n",
              " 'ship': 'sent',\n",
              " 'state': 'states',\n",
              " 'say': 'states',\n",
              " 'tell': 'states',\n",
              " 'evidence': 'tells',\n",
              " 'distinguish': 'marks',\n",
              " 'separate': 'broke',\n",
              " 'email': 'emailed',\n",
              " 'kitty': 'pool',\n",
              " 'pity': 'compassionate',\n",
              " 'specific': 'particular',\n",
              " 'detail': 'points',\n",
              " 'item': 'token',\n",
              " 'peculiar': 'rum',\n",
              " 'special': 'limited',\n",
              " 'exceptional': 'particular',\n",
              " 'despite': 'contempt',\n",
              " 'disrespect': 'contempt',\n",
              " 'notice': 'marks',\n",
              " 'voucher': 'coupon',\n",
              " 'disabled': 'handicapped',\n",
              " 'invalid': 'handicapped',\n",
              " 'hinder': 'embarrassed',\n",
              " 'jump': 'startling',\n",
              " 'start': 'beginning',\n",
              " 'roll': 'wound',\n",
              " 'threaten': 'threatening',\n",
              " 'recourse': 'resort',\n",
              " 'club': 'clubs',\n",
              " 'nine': 'clubs',\n",
              " 'society': 'clubs',\n",
              " 'lodge': 'charging',\n",
              " 'cabaret': 'clubs',\n",
              " 'bicycle': 'wheel',\n",
              " 'bike': 'wheel',\n",
              " 'cycle': 'wheel',\n",
              " 'route': 'road',\n",
              " 'platinum': 'platinums',\n",
              " 'scare': 'scared',\n",
              " 'awful': 'atrocious',\n",
              " 'dread': 'frightening',\n",
              " 'dreadful': 'atrocious',\n",
              " 'horrendous': 'frightening',\n",
              " 'horrific': 'outrageous',\n",
              " 'terrible': 'atrocious',\n",
              " 'senseless': 'pointless',\n",
              " 'wasted': 'pointless',\n",
              " 'defend': 'holding',\n",
              " 'interpret': 'seeing',\n",
              " 'act': 'working',\n",
              " 'play': 'working',\n",
              " 'stage': 'presenting',\n",
              " 'present': 'presenting',\n",
              " 'map': 'represent',\n",
              " 'proceed': 'moves',\n",
              " 'uphold': 'continue',\n",
              " 'retain': 'holding',\n",
              " 'remain': 'resting',\n",
              " 'extend': 'passed',\n",
              " 'pacify': 'appease',\n",
              " 'assuage': 'relieved',\n",
              " 'important': 'crucial',\n",
              " 'classic': 'authoritative',\n",
              " 'definitive': 'authoritative',\n",
              " 'colour': 'color',\n",
              " 'answer': 'resolved',\n",
              " 'result': 'left',\n",
              " 'resolution': 'results',\n",
              " 'lip': 'sass',\n",
              " 'annoy': 'annoyed',\n",
              " 'irritated': 'annoyed',\n",
              " 'pissed': 'wet',\n",
              " 'steamed': 'annoyed',\n",
              " 'excited': 'emotional',\n",
              " 'guy': 'guys',\n",
              " 'bozo': 'goose',\n",
              " 'ridicule': 'guys',\n",
              " 'roast': 'guys',\n",
              " 'hurry': 'precipitation',\n",
              " 'lack': 'missing',\n",
              " 'want': 'needed',\n",
              " 'sham': 'fake',\n",
              " 'affect': 'impressed',\n",
              " 'guess': 'imagine',\n",
              " 'venture': 'pretend',\n",
              " 'hazard': 'jeopardy',\n",
              " 'lead': 'passed',\n",
              " 'steer': 'tips',\n",
              " 'guide': 'passed',\n",
              " 'drop': 'pearl',\n",
              " 'miss': 'dropping',\n",
              " 'command': 'statement',\n",
              " \"ma'am\": 'ladies',\n",
              " 'marry': 'married',\n",
              " 'tie': 'connected',\n",
              " 'exist': 'existing',\n",
              " 'equal': 'peer',\n",
              " 'represent': 'presenting',\n",
              " 'follow': 'comes',\n",
              " 'embody': 'are',\n",
              " 'cost': 'are',\n",
              " 'valentine': 'valentines',\n",
              " 'band': 'lots',\n",
              " 'lot': 'deals',\n",
              " 'lap': 'circle',\n",
              " 'circuit': 'tour',\n",
              " 'rotary': 'circle',\n",
              " 'round': 'bout',\n",
              " 'film': 'taking',\n",
              " 'picture': 'photo',\n",
              " 'pic': 'photo',\n",
              " 'apology': 'excuses',\n",
              " 'explain': 'excuses',\n",
              " 'apologise': 'excuses',\n",
              " 'entertain': 'holding',\n",
              " 'conversion': 'transition',\n",
              " 'away': 'outside',\n",
              " 'forward': 'ahead',\n",
              " 'settle': 'resolved',\n",
              " 'resolve': 'resolved',\n",
              " 'well': 'best',\n",
              " 'lag': 'lagging',\n",
              " 'anxious': 'nervous',\n",
              " 'instruction': 'statement',\n",
              " 'body': 'consistency',\n",
              " 'fulfill': 'satisfied',\n",
              " 'fulfil': 'satisfied',\n",
              " 'meet': 'received',\n",
              " 'fill': 'taking',\n",
              " 'ask': 'asking',\n",
              " 'need': 'asking',\n",
              " 'require': 'asking',\n",
              " 'take': 'choosing',\n",
              " 'involve': 'asking',\n",
              " 'demand': 'asking',\n",
              " 'attentive': 'thoughtful',\n",
              " 'listen': 'heard',\n",
              " 'hear': 'seeing',\n",
              " 'mind': 'beware',\n",
              " 'freaky': 'bizarre',\n",
              " 'easy': 'easily',\n",
              " 'soft': 'mild',\n",
              " 'comfortable': 'easiest',\n",
              " 'light': 'falls',\n",
              " 'loose': 'relaxing',\n",
              " 'smoke': 'dope',\n",
              " 'transaction': 'dealing',\n",
              " 'sell': 'deals',\n",
              " 'trade': 'deals',\n",
              " 'share': 'deals',\n",
              " 'elect': 'elite',\n",
              " 'depression': 'low',\n",
              " 'small': 'lowest',\n",
              " 'blue': 'lowest',\n",
              " 'down': 'kill',\n",
              " 'damage': 'damaged',\n",
              " 'incorrect': 'wrong',\n",
              " 'improper': 'wrong',\n",
              " 'faulty': 'defective',\n",
              " 'incorrectly': 'wrong',\n",
              " 'wear': 'broke',\n",
              " 'perspective': 'views',\n",
              " 'scene': 'views',\n",
              " 'survey': 'resume',\n",
              " 'sight': 'deals',\n",
              " 'opinion': 'views',\n",
              " 'sentiment': 'views',\n",
              " 'thought': 'views',\n",
              " 'horizon': 'views',\n",
              " 'regard': 'views',\n",
              " 'catch': 'views',\n",
              " 'love': 'loves',\n",
              " 'bloody': 'damn',\n",
              " 'inside': 'interior',\n",
              " 'internal': 'intimate',\n",
              " 'national': 'interior',\n",
              " 'inner': 'intimate',\n",
              " 'midland': 'interior',\n",
              " 'mail': 'sent',\n",
              " 'experience': 'having',\n",
              " 'recognize': 'greetings',\n",
              " 'reasonable': 'fair',\n",
              " 'bonnie': 'fair',\n",
              " 'average': 'norm',\n",
              " 'mediocre': 'fair',\n",
              " 'clean': 'cleaning',\n",
              " 'honest': 'best',\n",
              " 'fairly': 'pretty',\n",
              " 'exercise': 'working',\n",
              " 'sanitize': 'sanitized',\n",
              " 'loyalty': 'commitment',\n",
              " 'dedication': 'commitment',\n",
              " 'ball': 'balls',\n",
              " 'globe': 'earth',\n",
              " 'nut': 'balls',\n",
              " 'formal': 'balls',\n",
              " 'information': 'data',\n",
              " 'mistake': 'misunderstanding',\n",
              " 'err': 'mistaken',\n",
              " 'false': 'untrue',\n",
              " 'balance': 'correspondence',\n",
              " 'pure': 'complete',\n",
              " 'amaze': 'beats',\n",
              " 'astound': 'astounded',\n",
              " 'legalize': 'legitimate',\n",
              " 'logical': 'consistent',\n",
              " 'closing': 'end',\n",
              " 'block': 'embarrassed',\n",
              " 'job': 'problems',\n",
              " 'line': 'blood',\n",
              " 'process': 'working',\n",
              " 'operation': 'operations',\n",
              " 'routine': 'mundane',\n",
              " 'void': 'evacuate',\n",
              " 'avoid': 'avert',\n",
              " 'world': 'reality',\n",
              " 'horrid': 'outrageous',\n",
              " 'steep': 'outrageous',\n",
              " 'unconscionable': 'outrageous',\n",
              " 'usurious': 'outrageous',\n",
              " 'lord': 'masters',\n",
              " 'superior': 'masters',\n",
              " 'original': 'masters',\n",
              " 'captain': 'masters',\n",
              " 'skipper': 'masters',\n",
              " 'professional': 'pro',\n",
              " 'folk': 'folks',\n",
              " 'sept': 'folks',\n",
              " 'son': 'boy',\n",
              " 'ill': 'poorly',\n",
              " 'incapable': 'incompetent',\n",
              " 'alert': 'alive',\n",
              " 'brisk': 'refreshing',\n",
              " 'vital': 'lively',\n",
              " 'store': 'depot',\n",
              " 'stock': 'inventory',\n",
              " 'dirt': 'shits',\n",
              " 'outrage': 'offended',\n",
              " 'check': 'broke',\n",
              " 'heart': 'pump',\n",
              " 'cheek': 'nerve',\n",
              " 'steel': 'blade',\n",
              " 'speedy': 'rapid',\n",
              " 'melt': 'disappear',\n",
              " 'lose': 'missing',\n",
              " 'misplace': 'misplaced',\n",
              " 'missed': 'lost',\n",
              " 'helpless': 'lost',\n",
              " 'rush': 'induce',\n",
              " 'speed': 'accelerate',\n",
              " 'whine': 'squeak',\n",
              " 'establish': 'plants',\n",
              " 'found': 'plants',\n",
              " 'opportunity': 'chance',\n",
              " 'luck': 'lots',\n",
              " 'probability': 'chance',\n",
              " 'risk': 'danger',\n",
              " 'adventure': 'chance',\n",
              " 'happen': 'passed',\n",
              " 'bump': 'broke',\n",
              " 'encounter': 'received',\n",
              " 'casual': 'effortless',\n",
              " 'rich': 'deep',\n",
              " 'daydream': 'moon',\n",
              " 'coincidence': 'conjunction',\n",
              " 'junction': 'conjunction',\n",
              " 'funny': 'rum',\n",
              " 'suspect': 'shady',\n",
              " 'programming': 'scheduling',\n",
              " 'schedule': 'scheduling',\n",
              " 'strong': 'substantial',\n",
              " 'ardent': 'warm',\n",
              " 'celebrate': 'celebrating',\n",
              " 'fancy': 'seeing',\n",
              " 'sunset': 'sundown',\n",
              " 'gently': 'lightly',\n",
              " 'spade': 'nigga',\n",
              " 'undermine': 'sabotage',\n",
              " 'swear': 'verify',\n",
              " 'bank': 'rely',\n",
              " 'alternative': 'alternatives',\n",
              " 'choice': 'alternatives',\n",
              " 'selection': 'option',\n",
              " 'dent': 'ding',\n",
              " 'nick': 'notch',\n",
              " 'praise': 'congratulations',\n",
              " 'kudos': 'congratulations',\n",
              " 'congratulation': 'congratulations',\n",
              " 'exhaust': 'exhausting',\n",
              " 'beat': 'exhausting',\n",
              " 'eat': 'exhausting',\n",
              " 'release': 'exhausting',\n",
              " 'slow': 'dumb',\n",
              " 'humor': 'wit',\n",
              " 'humour': 'wit',\n",
              " 'smash': 'broke',\n",
              " 'familiar': 'intimate',\n",
              " 'associate': 'connected',\n",
              " 'company': 'party',\n",
              " 'accompany': 'following',\n",
              " 'heavy': 'greatest',\n",
              " 'hard': 'difficult',\n",
              " 'second': 'minute',\n",
              " 'backward': 'back',\n",
              " 'backwards': 'back',\n",
              " 'fraud': 'fake',\n",
              " 'pseudo': 'fake',\n",
              " 'bullshit': 'shits',\n",
              " 'bull': 'shits',\n",
              " 'bastard': 'sob',\n",
              " 'receive': 'having',\n",
              " 'incur': 'received',\n",
              " 'ail': 'pain',\n",
              " 'hurt': 'offended',\n",
              " 'disconnection': 'disconnect',\n",
              " 'borderline': 'border',\n",
              " 'edge': 'inch',\n",
              " 'surround': 'environment',\n",
              " 'ring': 'telephone',\n",
              " 'frame': 'border',\n",
              " 'march': 'processing',\n",
              " 'help': 'helping',\n",
              " 'servicing': 'services',\n",
              " 'overhaul': 'passed',\n",
              " 'crook': 'crooked',\n",
              " 'deplorable': 'woeful',\n",
              " 'reprehensible': 'criminal',\n",
              " 'unite': 'connected',\n",
              " 'merge': 'merging',\n",
              " 'combine': 'compound',\n",
              " 'connect': 'connected',\n",
              " 'link': 'connected',\n",
              " 'join': 'connected',\n",
              " 'seating': 'seats',\n",
              " 'tail': 'chasing',\n",
              " 'appointment': 'engagement',\n",
              " 'assignment': 'naming',\n",
              " 'call': 'telephone',\n",
              " 'nominate': 'making',\n",
              " 'appoint': 'charging',\n",
              " 'mention': 'naming',\n",
              " 'describe': 'naming',\n",
              " 'list': 'number',\n",
              " 'professor': 'prof',\n",
              " 'hoot': 'shits',\n",
              " 'bird': 'doll',\n",
              " 'activity': 'action',\n",
              " 'sue': 'processing',\n",
              " 'accomplish': 'achieve',\n",
              " 'dial': 'dialing',\n",
              " 'incident': 'incidental',\n",
              " 'attendant': 'attendants',\n",
              " 'dance': 'dancing',\n",
              " 'manufacture': 'industry',\n",
              " 'author': 'writer',\n",
              " 'carry': 'holding',\n",
              " 'change': 'modification',\n",
              " 'modify': 'changing',\n",
              " 'vary': 'changing',\n",
              " 'switch': 'switching',\n",
              " 'shift': 'switching',\n",
              " 'exchange': 'central',\n",
              " 'commute': 'changing',\n",
              " 'transfer': 'reassign',\n",
              " 'mentality': 'wit',\n",
              " 'mindset': 'outlook',\n",
              " 'expectation': 'anticipation',\n",
              " 'sprinkle': 'dot',\n",
              " 'dust': 'dot',\n",
              " 'suite': 'suites',\n",
              " 'suit': 'accommodating',\n",
              " 'accommodate': 'holding',\n",
              " 'news': 'intelligence',\n",
              " 'word': 'password',\n",
              " 'kick': 'squawk',\n",
              " 'boot': 'reboot',\n",
              " 'complain': 'kicking',\n",
              " 'think': 'believe',\n",
              " 'commend': 'recommend',\n",
              " 'potential': 'possible',\n",
              " 'probably': 'likely',\n",
              " 'stink': 'reeks',\n",
              " 'reek': 'reeks',\n",
              " 'smell': 'feels',\n",
              " 'idiot': 'moron',\n",
              " 'extreme': 'utmost',\n",
              " 'last': 'lastly',\n",
              " 'understanding': 'reason',\n",
              " 'accumulation': 'collection',\n",
              " 'manager': 'coach',\n",
              " 'handler': 'coach',\n",
              " 'bus': 'coach',\n",
              " 'implement': 'enforce',\n",
              " 'apply': 'holding',\n",
              " 'record': 'platter',\n",
              " 'destroy': 'demolish',\n",
              " 'haul': 'cart',\n",
              " 'drag': 'pull',\n",
              " 'rapidly': 'quickly',\n",
              " 'promptly': 'readily',\n",
              " 'weave': 'wound',\n",
              " 'pack': 'james',\n",
              " 'crowd': 'crowded',\n",
              " 'crew': 'gang',\n",
              " 'bunch': 'lots',\n",
              " 'mess': 'deals',\n",
              " 'mint': 'deals',\n",
              " 'mountain': 'deals',\n",
              " 'pile': 'deals',\n",
              " 'plenty': 'deals',\n",
              " 'raft': 'deals',\n",
              " 'people': 'mass',\n",
              " 'volume': 'mass',\n",
              " 'hint': 'tips',\n",
              " 'rectify': 'reform',\n",
              " 'amend': 'improve',\n",
              " 'accurate': 'exact',\n",
              " 'power': 'king',\n",
              " 'pattern': 'model',\n",
              " 'use': 'utilize',\n",
              " 'barely': 'hardly',\n",
              " 'sail': 'cruise',\n",
              " 'encouragement': 'boost',\n",
              " 'rise': 'arise',\n",
              " 'hike': 'boost',\n",
              " 'promote': 'advertise',\n",
              " 'advance': 'progress',\n",
              " 'encourage': 'boost',\n",
              " 'move': 'traveling',\n",
              " 'strike': 'falls',\n",
              " 'print': 'printed',\n",
              " 'shanghai': 'impressed',\n",
              " 'outline': 'draft',\n",
              " 'nasty': 'filthy',\n",
              " 'dirty': 'filthy',\n",
              " 'shock': 'offended',\n",
              " 'touch': 'contacted',\n",
              " 'yearly': 'annual',\n",
              " 'come': 'comes',\n",
              " 'rest': 'sleep',\n",
              " 'breathe': 'resting',\n",
              " 'reside': 'resting',\n",
              " 'pillow': 'pillows',\n",
              " 'talk': 'speaking',\n",
              " 'rule': 'reign',\n",
              " 'formula': 'normal',\n",
              " 'understandably': 'clearly',\n",
              " 'clear': 'passed',\n",
              " 'filter': 'trickle',\n",
              " 'pat': 'tap',\n",
              " 'rap': 'whack',\n",
              " 'bug': 'germ',\n",
              " 'knock': 'whack',\n",
              " 'pink': 'ping',\n",
              " 'mean': 'meaning',\n",
              " 'mileage': 'milage',\n",
              " 'leak': 'escape',\n",
              " 'house': 'firm',\n",
              " 'solid': 'substantial',\n",
              " 'loyal': 'fastest',\n",
              " 'mouth': 'speaking',\n",
              " 'submit': 'states',\n",
              " 'purpose': 'resolved',\n",
              " 'intent': 'captive',\n",
              " 'battle': 'battling',\n",
              " 'conflict': 'difference',\n",
              " 'fight': 'combat',\n",
              " 'date': 'seeing',\n",
              " 'booking': 'reservations',\n",
              " 'honor': 'rewards',\n",
              " 'honour': 'rewards',\n",
              " 'grant': 'award',\n",
              " 'brand': 'blade',\n",
              " 'stingy': 'stingiest',\n",
              " 'worldwide': 'global',\n",
              " 'impression': 'feeling',\n",
              " 'belief': 'feeling',\n",
              " 'notion': 'feeling',\n",
              " 'spirit': 'spirited',\n",
              " 'tone': 'feels',\n",
              " 'feel': 'fingers',\n",
              " 'look': 'appear',\n",
              " 'sense': 'felt',\n",
              " 'finger': 'fingers',\n",
              " 'talent': 'gift',\n",
              " 'give': 'passed',\n",
              " 'dump': 'shits',\n",
              " 'deck': 'dumps',\n",
              " 'floor': 'shocked',\n",
              " 'arena': 'field',\n",
              " 'wireless': 'radio',\n",
              " 'delightful': 'delicious',\n",
              " 'yummy': 'delicious',\n",
              " 'adopt': 'taking',\n",
              " 'trace': 'following',\n",
              " 'gent': 'fella',\n",
              " 'cuss': 'fella',\n",
              " 'elaborate': 'complicated',\n",
              " 'step': 'mistreat',\n",
              " 'amount': 'comes',\n",
              " 'measurement': 'measure',\n",
              " 'standard': 'received',\n",
              " 'criterion': 'measure',\n",
              " 'bar': 'stopped',\n",
              " 'evaluate': 'measure',\n",
              " 'snowstorm': 'blizzard',\n",
              " 'commence': 'beginning',\n",
              " 'fine': 'ticketed',\n",
              " 'okay': 'approve',\n",
              " 'green': 'common',\n",
              " 'educate': 'prepared',\n",
              " 'school': 'training',\n",
              " 'polite': 'civilized',\n",
              " 'darn': 'shits',\n",
              " 'curse': 'damn',\n",
              " 'goddamn': 'damn',\n",
              " 'blame': 'charging',\n",
              " 'surf': 'breaker',\n",
              " 'slogan': 'motto',\n",
              " 'dismiss': 'dropping',\n",
              " 'thank': 'thanks',\n",
              " 'relate': 'connected',\n",
              " 'interested': 'concerned',\n",
              " 'error': 'fault',\n",
              " 'flaw': 'flawed',\n",
              " 'pair': 'pairing',\n",
              " 'couple': 'pairing',\n",
              " 'twin': 'pairing',\n",
              " 'preparation': 'preparedness',\n",
              " 'education': 'training',\n",
              " 'develop': 'broke',\n",
              " 'prepare': 'prepared',\n",
              " 'coach': 'training',\n",
              " ...}"
            ]
          },
          "metadata": {},
          "execution_count": 34
        }
      ]
    },
    {
      "cell_type": "code",
      "metadata": {
        "id": "KWhUq-fVOQy6"
      },
      "source": [],
      "execution_count": null,
      "outputs": []
    }
  ]
}