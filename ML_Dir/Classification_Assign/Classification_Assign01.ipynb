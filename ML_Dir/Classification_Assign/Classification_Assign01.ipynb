{
 "cells": [
  {
   "cell_type": "code",
   "execution_count": 1,
   "id": "cb625879-d3ec-4d25-9c46-411f577dcb70",
   "metadata": {},
   "outputs": [],
   "source": [
    "import pandas as pd\n",
    "import numpy as np"
   ]
  },
  {
   "cell_type": "code",
   "execution_count": 2,
   "id": "bd197d45-61be-4ca5-b3e8-b9d3afabc067",
   "metadata": {},
   "outputs": [],
   "source": [
    "df = pd.read_csv(\"mountains_vs_beaches_preferences.csv\")"
   ]
  },
  {
   "cell_type": "code",
   "execution_count": 3,
   "id": "3aa04297-2aeb-4fdd-9ff6-4c33c915f8e5",
   "metadata": {},
   "outputs": [
    {
     "data": {
      "text/plain": [
       "(52444, 14)"
      ]
     },
     "execution_count": 3,
     "metadata": {},
     "output_type": "execute_result"
    }
   ],
   "source": [
    "df.shape"
   ]
  },
  {
   "cell_type": "code",
   "execution_count": 4,
   "id": "35c697a3-9150-4873-b006-2d9dd3b52d2b",
   "metadata": {},
   "outputs": [
    {
     "data": {
      "text/html": [
       "<div>\n",
       "<style scoped>\n",
       "    .dataframe tbody tr th:only-of-type {\n",
       "        vertical-align: middle;\n",
       "    }\n",
       "\n",
       "    .dataframe tbody tr th {\n",
       "        vertical-align: top;\n",
       "    }\n",
       "\n",
       "    .dataframe thead th {\n",
       "        text-align: right;\n",
       "    }\n",
       "</style>\n",
       "<table border=\"1\" class=\"dataframe\">\n",
       "  <thead>\n",
       "    <tr style=\"text-align: right;\">\n",
       "      <th></th>\n",
       "      <th>Age</th>\n",
       "      <th>Gender</th>\n",
       "      <th>Income</th>\n",
       "      <th>Education_Level</th>\n",
       "      <th>Travel_Frequency</th>\n",
       "      <th>Preferred_Activities</th>\n",
       "      <th>Vacation_Budget</th>\n",
       "      <th>Location</th>\n",
       "      <th>Proximity_to_Mountains</th>\n",
       "      <th>Proximity_to_Beaches</th>\n",
       "      <th>Favorite_Season</th>\n",
       "      <th>Pets</th>\n",
       "      <th>Environmental_Concerns</th>\n",
       "      <th>Preference</th>\n",
       "    </tr>\n",
       "  </thead>\n",
       "  <tbody>\n",
       "    <tr>\n",
       "      <th>0</th>\n",
       "      <td>56</td>\n",
       "      <td>male</td>\n",
       "      <td>71477</td>\n",
       "      <td>bachelor</td>\n",
       "      <td>9</td>\n",
       "      <td>skiing</td>\n",
       "      <td>2477</td>\n",
       "      <td>urban</td>\n",
       "      <td>175</td>\n",
       "      <td>267</td>\n",
       "      <td>summer</td>\n",
       "      <td>0</td>\n",
       "      <td>1</td>\n",
       "      <td>1</td>\n",
       "    </tr>\n",
       "    <tr>\n",
       "      <th>1</th>\n",
       "      <td>69</td>\n",
       "      <td>male</td>\n",
       "      <td>88740</td>\n",
       "      <td>master</td>\n",
       "      <td>1</td>\n",
       "      <td>swimming</td>\n",
       "      <td>4777</td>\n",
       "      <td>suburban</td>\n",
       "      <td>228</td>\n",
       "      <td>190</td>\n",
       "      <td>fall</td>\n",
       "      <td>0</td>\n",
       "      <td>1</td>\n",
       "      <td>0</td>\n",
       "    </tr>\n",
       "    <tr>\n",
       "      <th>2</th>\n",
       "      <td>46</td>\n",
       "      <td>female</td>\n",
       "      <td>46562</td>\n",
       "      <td>master</td>\n",
       "      <td>0</td>\n",
       "      <td>skiing</td>\n",
       "      <td>1469</td>\n",
       "      <td>urban</td>\n",
       "      <td>71</td>\n",
       "      <td>280</td>\n",
       "      <td>winter</td>\n",
       "      <td>0</td>\n",
       "      <td>0</td>\n",
       "      <td>1</td>\n",
       "    </tr>\n",
       "    <tr>\n",
       "      <th>3</th>\n",
       "      <td>32</td>\n",
       "      <td>non-binary</td>\n",
       "      <td>99044</td>\n",
       "      <td>high school</td>\n",
       "      <td>6</td>\n",
       "      <td>hiking</td>\n",
       "      <td>1482</td>\n",
       "      <td>rural</td>\n",
       "      <td>31</td>\n",
       "      <td>255</td>\n",
       "      <td>summer</td>\n",
       "      <td>1</td>\n",
       "      <td>0</td>\n",
       "      <td>1</td>\n",
       "    </tr>\n",
       "    <tr>\n",
       "      <th>4</th>\n",
       "      <td>60</td>\n",
       "      <td>female</td>\n",
       "      <td>106583</td>\n",
       "      <td>high school</td>\n",
       "      <td>5</td>\n",
       "      <td>sunbathing</td>\n",
       "      <td>516</td>\n",
       "      <td>suburban</td>\n",
       "      <td>23</td>\n",
       "      <td>151</td>\n",
       "      <td>winter</td>\n",
       "      <td>1</td>\n",
       "      <td>1</td>\n",
       "      <td>0</td>\n",
       "    </tr>\n",
       "  </tbody>\n",
       "</table>\n",
       "</div>"
      ],
      "text/plain": [
       "   Age      Gender  Income Education_Level  Travel_Frequency  \\\n",
       "0   56        male   71477        bachelor                 9   \n",
       "1   69        male   88740          master                 1   \n",
       "2   46      female   46562          master                 0   \n",
       "3   32  non-binary   99044     high school                 6   \n",
       "4   60      female  106583     high school                 5   \n",
       "\n",
       "  Preferred_Activities  Vacation_Budget  Location  Proximity_to_Mountains  \\\n",
       "0               skiing             2477     urban                     175   \n",
       "1             swimming             4777  suburban                     228   \n",
       "2               skiing             1469     urban                      71   \n",
       "3               hiking             1482     rural                      31   \n",
       "4           sunbathing              516  suburban                      23   \n",
       "\n",
       "   Proximity_to_Beaches Favorite_Season  Pets  Environmental_Concerns  \\\n",
       "0                   267          summer     0                       1   \n",
       "1                   190            fall     0                       1   \n",
       "2                   280          winter     0                       0   \n",
       "3                   255          summer     1                       0   \n",
       "4                   151          winter     1                       1   \n",
       "\n",
       "   Preference  \n",
       "0           1  \n",
       "1           0  \n",
       "2           1  \n",
       "3           1  \n",
       "4           0  "
      ]
     },
     "execution_count": 4,
     "metadata": {},
     "output_type": "execute_result"
    }
   ],
   "source": [
    "df.head()"
   ]
  },
  {
   "cell_type": "code",
   "execution_count": 5,
   "id": "0e343d63-f858-4b40-81de-58b543c13026",
   "metadata": {},
   "outputs": [
    {
     "data": {
      "text/plain": [
       "Age                       0\n",
       "Gender                    0\n",
       "Income                    0\n",
       "Education_Level           0\n",
       "Travel_Frequency          0\n",
       "Preferred_Activities      0\n",
       "Vacation_Budget           0\n",
       "Location                  0\n",
       "Proximity_to_Mountains    0\n",
       "Proximity_to_Beaches      0\n",
       "Favorite_Season           0\n",
       "Pets                      0\n",
       "Environmental_Concerns    0\n",
       "Preference                0\n",
       "dtype: int64"
      ]
     },
     "execution_count": 5,
     "metadata": {},
     "output_type": "execute_result"
    }
   ],
   "source": [
    "df.isna().sum()"
   ]
  },
  {
   "cell_type": "code",
   "execution_count": 6,
   "id": "96a916d1-4fc0-4d2c-927d-6cd15e149949",
   "metadata": {},
   "outputs": [
    {
     "data": {
      "text/plain": [
       "Age                        int64\n",
       "Gender                    object\n",
       "Income                     int64\n",
       "Education_Level           object\n",
       "Travel_Frequency           int64\n",
       "Preferred_Activities      object\n",
       "Vacation_Budget            int64\n",
       "Location                  object\n",
       "Proximity_to_Mountains     int64\n",
       "Proximity_to_Beaches       int64\n",
       "Favorite_Season           object\n",
       "Pets                       int64\n",
       "Environmental_Concerns     int64\n",
       "Preference                 int64\n",
       "dtype: object"
      ]
     },
     "execution_count": 6,
     "metadata": {},
     "output_type": "execute_result"
    }
   ],
   "source": [
    "df.dtypes"
   ]
  },
  {
   "cell_type": "code",
   "execution_count": 7,
   "id": "297b7860-24fe-4b2f-8196-07a21afce063",
   "metadata": {},
   "outputs": [],
   "source": [
    "df = pd.get_dummies(df,columns=df.select_dtypes(\"object\").columns)"
   ]
  },
  {
   "cell_type": "code",
   "execution_count": 8,
   "id": "a9a4ab11-134d-4f34-816c-6792e4f2fdf2",
   "metadata": {},
   "outputs": [
    {
     "data": {
      "text/plain": [
       "(52444, 27)"
      ]
     },
     "execution_count": 8,
     "metadata": {},
     "output_type": "execute_result"
    }
   ],
   "source": [
    "df.shape"
   ]
  },
  {
   "cell_type": "code",
   "execution_count": 9,
   "id": "2d944722-560e-4cd4-85c3-b020899ccb34",
   "metadata": {},
   "outputs": [
    {
     "data": {
      "text/plain": [
       "Age                                0.008207\n",
       "Income                            -0.004627\n",
       "Travel_Frequency                   0.007452\n",
       "Vacation_Budget                    0.005515\n",
       "Proximity_to_Mountains            -0.005557\n",
       "Proximity_to_Beaches              -0.008012\n",
       "Pets                              -0.003432\n",
       "Environmental_Concerns             0.006254\n",
       "Preference                         1.150395\n",
       "Gender_female                      0.692916\n",
       "Gender_male                        0.703429\n",
       "Gender_non-binary                  0.725164\n",
       "Education_Level_bachelor           1.152856\n",
       "Education_Level_doctorate          1.133508\n",
       "Education_Level_high school        1.159320\n",
       "Education_Level_master             1.173520\n",
       "Preferred_Activities_hiking        1.155791\n",
       "Preferred_Activities_skiing        1.148171\n",
       "Preferred_Activities_sunbathing    1.141870\n",
       "Preferred_Activities_swimming      1.173282\n",
       "Location_rural                     0.708614\n",
       "Location_suburban                  0.705156\n",
       "Location_urban                     0.707612\n",
       "Favorite_Season_fall               1.147821\n",
       "Favorite_Season_spring             1.173520\n",
       "Favorite_Season_summer             1.132350\n",
       "Favorite_Season_winter             1.165575\n",
       "dtype: float64"
      ]
     },
     "execution_count": 9,
     "metadata": {},
     "output_type": "execute_result"
    }
   ],
   "source": [
    "df.skew()"
   ]
  },
  {
   "cell_type": "code",
   "execution_count": 10,
   "id": "06ebd3c5-d41f-41da-902c-e624b36320f0",
   "metadata": {},
   "outputs": [],
   "source": [
    "x = df.drop('Preference',axis=1)\n",
    "y= df['Preference']"
   ]
  },
  {
   "cell_type": "code",
   "execution_count": 11,
   "id": "cdad54f7-c7f4-4fd1-9cb3-5d41b0670113",
   "metadata": {},
   "outputs": [],
   "source": [
    "#Standard Scaling\n",
    "x_scaled = (x-x.mean())/x.std()"
   ]
  },
  {
   "cell_type": "code",
   "execution_count": 12,
   "id": "85efd6b8-de67-43f1-a375-1f9d41fe8272",
   "metadata": {},
   "outputs": [],
   "source": [
    "#Train Test Split\n",
    "from sklearn.model_selection import train_test_split\n",
    "x_train,x_test,y_train,y_test = train_test_split(x_scaled,y,random_state=117,test_size=0.3,stratify=y)\n",
    "x_train_noscale,x_test_noscale,y_train,y_test = train_test_split(x_scaled,y,random_state=117,test_size=0.3,stratify=y)"
   ]
  },
  {
   "cell_type": "code",
   "execution_count": 13,
   "id": "a8b1d8d9-5582-403a-aea7-3f9ebd42db94",
   "metadata": {},
   "outputs": [],
   "source": [
    "#Classification \n",
    "from sklearn.linear_model import LogisticRegression\n",
    "from sklearn.naive_bayes import GaussianNB,BernoulliNB,MultinomialNB\n",
    "from sklearn.svm import SVC\n",
    "from sklearn.neighbors import KNeighborsClassifier\n",
    "from sklearn.tree import DecisionTreeClassifier\n",
    "\n",
    "from sklearn.metrics import classification_report"
   ]
  },
  {
   "cell_type": "code",
   "execution_count": 14,
   "id": "297d95f2-d2e2-478b-8260-2bc6183b5b05",
   "metadata": {},
   "outputs": [],
   "source": [
    "l = {\"Logistic\":LogisticRegression(random_state=117,max_iter=300,class_weight=\"balanced\"),\n",
    "     \"GaussianNB\":GaussianNB(),\"BernoulliNB\":BernoulliNB(),#\"Multinomial\":MultinomialNB(),\n",
    "     \"svc\":SVC(random_state=7,kernel='rbf'),\n",
    "     \"KNN\":KNeighborsClassifier(),\n",
    "     \"DT\":DecisionTreeClassifier(class_weight=\"balanced\")}"
   ]
  },
  {
   "cell_type": "code",
   "execution_count": 17,
   "id": "dcaacf68-a694-43fb-b43f-01fb5447d000",
   "metadata": {},
   "outputs": [
    {
     "name": "stdout",
     "output_type": "stream",
     "text": [
      "\n",
      "Classification Report: Logistic\n",
      "              precision    recall  f1-score   support\n",
      "\n",
      "           0       1.00      0.99      0.99     11789\n",
      "           1       0.97      1.00      0.99      3945\n",
      "\n",
      "    accuracy                           0.99     15734\n",
      "   macro avg       0.99      0.99      0.99     15734\n",
      "weighted avg       0.99      0.99      0.99     15734\n",
      "\n",
      "\n",
      "Classification Report: GaussianNB\n",
      "              precision    recall  f1-score   support\n",
      "\n",
      "           0       1.00      0.67      0.80     11789\n",
      "           1       0.50      1.00      0.67      3945\n",
      "\n",
      "    accuracy                           0.75     15734\n",
      "   macro avg       0.75      0.83      0.73     15734\n",
      "weighted avg       0.87      0.75      0.77     15734\n",
      "\n",
      "\n",
      "Classification Report: BernoulliNB\n",
      "              precision    recall  f1-score   support\n",
      "\n",
      "           0       0.95      0.88      0.91     11789\n",
      "           1       0.71      0.85      0.77      3945\n",
      "\n",
      "    accuracy                           0.87     15734\n",
      "   macro avg       0.83      0.87      0.84     15734\n",
      "weighted avg       0.89      0.87      0.88     15734\n",
      "\n",
      "\n",
      "Classification Report: svc\n",
      "              precision    recall  f1-score   support\n",
      "\n",
      "           0       0.99      0.99      0.99     11789\n",
      "           1       0.98      0.97      0.98      3945\n",
      "\n",
      "    accuracy                           0.99     15734\n",
      "   macro avg       0.98      0.98      0.98     15734\n",
      "weighted avg       0.99      0.99      0.99     15734\n",
      "\n",
      "\n",
      "Classification Report: KNN\n",
      "              precision    recall  f1-score   support\n",
      "\n",
      "           0       0.93      0.93      0.93     11789\n",
      "           1       0.80      0.80      0.80      3945\n",
      "\n",
      "    accuracy                           0.90     15734\n",
      "   macro avg       0.87      0.87      0.87     15734\n",
      "weighted avg       0.90      0.90      0.90     15734\n",
      "\n",
      "\n",
      "Classification Report: DT\n",
      "              precision    recall  f1-score   support\n",
      "\n",
      "           0       1.00      1.00      1.00     11789\n",
      "           1       0.99      0.99      0.99      3945\n",
      "\n",
      "    accuracy                           1.00     15734\n",
      "   macro avg       0.99      0.99      0.99     15734\n",
      "weighted avg       1.00      1.00      1.00     15734\n",
      "\n"
     ]
    }
   ],
   "source": [
    "for k,v in l.items():\n",
    "    model = v\n",
    "    model.fit(x_train,y_train)\n",
    "    y_pred = model.predict(x_test)\n",
    "    print(\"\\nClassification Report:\",k)\n",
    "    print(classification_report(y_test,y_pred))\n",
    "    \"\"\"\n",
    "else:\n",
    "    model = MultinomialNB()\n",
    "    model.fit(x_train_noscale,y_train)\n",
    "    y_pred = model.predict(x_test_noscale)\n",
    "    print(\"\\nClassification Report: MultinomialNB\")\n",
    "    print(classification_report(y_test,y_pred))\n",
    "    \"\"\""
   ]
  }
 ],
 "metadata": {
  "kernelspec": {
   "display_name": "Python 3 (ipykernel)",
   "language": "python",
   "name": "python3"
  },
  "language_info": {
   "codemirror_mode": {
    "name": "ipython",
    "version": 3
   },
   "file_extension": ".py",
   "mimetype": "text/x-python",
   "name": "python",
   "nbconvert_exporter": "python",
   "pygments_lexer": "ipython3",
   "version": "3.12.4"
  }
 },
 "nbformat": 4,
 "nbformat_minor": 5
}
